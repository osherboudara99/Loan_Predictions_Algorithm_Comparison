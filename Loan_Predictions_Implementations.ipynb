{
 "cells": [
  {
   "cell_type": "markdown",
   "id": "ebb70ff9-2f1b-4724-9985-b990cfb9eff4",
   "metadata": {},
   "source": [
    "# **Introduction**"
   ]
  },
  {
   "cell_type": "markdown",
   "id": "0a983e7c-5c05-4eb9-9ef9-52a6b77deae8",
   "metadata": {},
   "source": [
    "In the [paper from UCLA](https://escholarship.org/uc/item/3rs9b3d6) regarding XGBoost and Loan Predictions, they using many different data balancing methods to make sure their data is producing the best results. The accuracy for the base XGBoost algorithm (without a data balancing technique) had the best accuracy. We also observed from the paper that the class weights data balancing technique, although the accuracy was not as good as the base algorithm, had a much better f-measure as well as a much better recall (it is good that the recall is higher here because we want less false negatives i.e. so a bad loan default does not get approved). The paper also used SMOTE and ADASYN balancing methods but they did not compare as well so we will disregard them. We will compare the our XGBoost algorithm which uses K-fold cross validation as the data balancing technique versus the base and class weights results from the paper. There are different variations of K Fold Cross Validation. In this project we will implement Stratified K Fold Cross Validation as well as the Standard K Fold Cross Validation with xgboost and observe how these two fair against the UCLA paper's XGBoost models (base and class weights). We will first implement XGBoost with the parameters specified by the paper and then we will implement a standard version of XGBoost that contains less parameters and see how they both do. Both the XGBoost algorithm from the paper and the standard XGBoost algorithm that we will be implementing will have both K-fold and Stratified Kfold cross validation implementations."
   ]
  },
  {
   "cell_type": "code",
   "execution_count": null,
   "id": "25427854-f0a3-426b-9956-ec6f408fb439",
   "metadata": {},
   "outputs": [],
   "source": [
    "from PIL import Image\n",
    "Image.open(\"images/UCLAarticle_performance.png\")"
   ]
  },
  {
   "cell_type": "markdown",
   "id": "4f7945b4-2842-4911-8c48-712cee652a5a",
   "metadata": {},
   "source": [
    "As can be seen above, XGBoost with class weights and XGBoost with no data balancing techniques are the superior models so therefore, we will assess our algorithm versus those ones."
   ]
  },
  {
   "cell_type": "code",
   "execution_count": null,
   "id": "8e947472-3687-490d-a903-df81097e9725",
   "metadata": {},
   "outputs": [],
   "source": [
    "import pandas as pd"
   ]
  },
  {
   "cell_type": "markdown",
   "id": "3dd8ed76-52c8-470c-a338-6b775e1d0ad7",
   "metadata": {},
   "source": [
    "## Load Data"
   ]
  },
  {
   "cell_type": "markdown",
   "id": "ac4938df-7555-4123-b279-d030f86110a3",
   "metadata": {},
   "source": [
    "Below, we are viewing the CSV file as a dataframe. We can observe the various features that will help our XGBoost model predict. The data being loaded in was modified a bit. The original data was the training data, the test data without target feature and the target features for the test data. I combined the test data without target features with its target features in order to have the data more organized. The original data from Kaggle is the in Original_CSV_Data_From_Kaggle folder while the Edited_CSV_Files are the data after the modification mentioned above. "
   ]
  },
  {
   "cell_type": "code",
   "execution_count": null,
   "id": "3f6eafb6-04eb-405a-ad91-6c59845e4e81",
   "metadata": {},
   "outputs": [],
   "source": [
    "test_data = pd.read_csv('Edited_CSV_Files/TestData.csv')\n",
    "train_data = pd.read_csv('Edited_CSV_Files/TrainingData.csv')\n",
    "train_data.head()"
   ]
  },
  {
   "cell_type": "code",
   "execution_count": null,
   "id": "0d8382de-de62-4851-ab8e-d42d7461c396",
   "metadata": {},
   "outputs": [],
   "source": [
    "test_data.head()"
   ]
  },
  {
   "cell_type": "markdown",
   "id": "ab5d61b1-0585-440b-9283-bd5b69550e72",
   "metadata": {},
   "source": [
    "To determine how many rows and columns each dataframe has, we can call the shape function. The first value in the tuple is the amount of rows while the second value is the amount of columns."
   ]
  },
  {
   "cell_type": "code",
   "execution_count": null,
   "id": "1dfca84a-cc5b-48b7-844b-9143b8029294",
   "metadata": {},
   "outputs": [],
   "source": [
    "train_data.shape"
   ]
  },
  {
   "cell_type": "code",
   "execution_count": null,
   "id": "6eecf35d-4d7c-47a5-a226-74665688898c",
   "metadata": {},
   "outputs": [],
   "source": [
    "test_data.shape"
   ]
  },
  {
   "cell_type": "markdown",
   "id": "19eb0373-b87e-4c24-9ae4-558502619a95",
   "metadata": {},
   "source": [
    "## Combining data into one huge dataset "
   ]
  },
  {
   "cell_type": "markdown",
   "id": "d61c9977-36cc-4174-a9e7-7b7df12479fb",
   "metadata": {},
   "source": [
    "Our data is divided into a train set and a test set. To prepare the data for Stratified K-Fold Cross Validation, we must combine the train and test set. This is due to the fact that K-Fold Cross Validation will split the data into multiple groups and choose one as a train set and another as a test set for us. Then, we loop through our XGBoost algorithm on all the different groups to obtain the best accuracy. This will help show that our model is predicting well since it is being tested against \"unknown\" (It is called unknown data because the algorithm is being trained on different data at each iteration and then predicting on different data each iteration) data and therefore justifing it's accuracy."
   ]
  },
  {
   "cell_type": "code",
   "execution_count": null,
   "id": "72ad889a-6bbd-4aa1-9515-7dbcdf9902e8",
   "metadata": {},
   "outputs": [],
   "source": [
    "train_test_data = [train_data, test_data]\n",
    "\n",
    "all_data = pd.concat(train_test_data)\n",
    "\n",
    "# we do not need the ID column since pandas already numbers the rows for us\n",
    "all_data = all_data.drop(columns = ['ID']) \n",
    "                                                \n",
    "all_data"
   ]
  },
  {
   "cell_type": "code",
   "execution_count": null,
   "id": "e965aee3-52cc-4910-ba74-cd66cb9c3c79",
   "metadata": {},
   "outputs": [],
   "source": [
    "all_data.shape"
   ]
  },
  {
   "cell_type": "markdown",
   "id": "22e0c1a3-03b3-421c-b999-bda70c26701b",
   "metadata": {},
   "source": [
    "This table has 280,000 rows. Thjis makes sense because the train set had 252,000 rows and the test set had 28,000 rows. Together, that equals 280,000."
   ]
  },
  {
   "cell_type": "markdown",
   "id": "e335eca7-9180-4f5a-be10-2fceb93c32c7",
   "metadata": {},
   "source": [
    "## Check for missing values"
   ]
  },
  {
   "cell_type": "code",
   "execution_count": null,
   "id": "b2dab75b-a64b-4f1a-b381-d34b1235dd7d",
   "metadata": {},
   "outputs": [],
   "source": [
    "all_data.isnull().sum() #if all columns sum to zero, it means there are no missing values/nulls"
   ]
  },
  {
   "cell_type": "markdown",
   "id": "bddf53e2-7a51-4420-980f-c69a971cf7f9",
   "metadata": {},
   "source": [
    "# **Data Preprocessing** "
   ]
  },
  {
   "cell_type": "markdown",
   "id": "ab11d22a-6feb-4b9b-86f9-ca76d6dbb6cb",
   "metadata": {},
   "source": [
    "## Scaling Data "
   ]
  },
  {
   "cell_type": "markdown",
   "id": "157207c2-d8b9-4574-ab76-046437a613de",
   "metadata": {},
   "source": [
    "Scaling data is an important process in the data science process. We must scale our numeric data to not give more weight to values that are greater than smaller values which may not be true (ex: an age column would have an issue in this regard). We will use the Minimum Maximum Scaler formula here which will scale our numeric data between 0 and 1. We should remove the categorical data and scale the numeric data and put the dataframe back together. Here is the min max formula we will be using below:"
   ]
  },
  {
   "cell_type": "code",
   "execution_count": null,
   "id": "fd46ec35-a4e4-4676-a529-5e47a4bcfb6f",
   "metadata": {},
   "outputs": [],
   "source": [
    "Image.open(\"images/Min_Max_Scaler_Formula.png\")"
   ]
  },
  {
   "cell_type": "code",
   "execution_count": null,
   "id": "35e36850-0277-475a-9a74-f0a53cafa5f2",
   "metadata": {},
   "outputs": [],
   "source": [
    "column_labels = [\"Profession\", \"CITY\", \"STATE\",\"Married/Single\", \"House_Ownership\", \"Car_Ownership\"]\n",
    "data_numeric = all_data.drop(columns = column_labels) # to have numeric data separate from categorical in order to perform scaling\n",
    "data_numeric"
   ]
  },
  {
   "cell_type": "code",
   "execution_count": null,
   "id": "00b18d8c-f791-41ac-8e16-53df17b42953",
   "metadata": {},
   "outputs": [],
   "source": [
    "data_categorical = all_data[column_labels] # to have the categorical data separate from numeric\n",
    "data_categorical"
   ]
  },
  {
   "cell_type": "code",
   "execution_count": null,
   "id": "e04b8287-0fd0-4bf7-a5e4-c73b62f69d4b",
   "metadata": {},
   "outputs": [],
   "source": [
    "data_numeric_scaled = (data_numeric-data_numeric.min())/(data_numeric.max()-data_numeric.min())\n",
    "data_numeric_scaled"
   ]
  },
  {
   "cell_type": "code",
   "execution_count": null,
   "id": "0a69048e-fc3f-4e0b-b9bc-2b99aba80df8",
   "metadata": {},
   "outputs": [],
   "source": [
    "all_data_scaled = pd.concat([data_categorical, data_numeric_scaled], axis=1)\n",
    "all_data_scaled"
   ]
  },
  {
   "cell_type": "markdown",
   "id": "91e4c82d-262c-4d40-8b63-d8b491e39179",
   "metadata": {},
   "source": [
    "Now, the categorical data and the scaled numeric data are back in the same dataframe."
   ]
  },
  {
   "cell_type": "markdown",
   "id": "6d06263d-6556-434d-a2f1-5bcbe347ed68",
   "metadata": {},
   "source": [
    "## One Hot Encoding"
   ]
  },
  {
   "cell_type": "markdown",
   "id": "074c2a1f-45dd-483c-b764-8d712291f8ff",
   "metadata": {},
   "source": [
    "Some of the columns such as profession, city and home_ownership in the dataframe are not numeric or binary data. In order to build a sufficient ML model, we must change our categorical data into numeric or binary data. There are two popular methods of encoding: label encoding and one hot encoding. Label encoding is ideal when using ordinal data but in our case, all the data we are changing is categorical data so we would want to use one hot encoding which is best for this situation. One hot encoding will convert each categorical value into a new categorical column and assign a binary value of 1 or 0 to those columns which will classify all the categorical data as binary data. Below we will implement one hot encoding using the pandas library get_dummies() function. "
   ]
  },
  {
   "cell_type": "code",
   "execution_count": null,
   "id": "60f9330a-552a-4f80-b01f-17b068de393c",
   "metadata": {},
   "outputs": [],
   "source": [
    "\n",
    "column_labels = [\"Profession\", \"CITY\", \"STATE\",\"Married/Single\", \"House_Ownership\", \"Car_Ownership\"]\n",
    "data_categorical = all_data_scaled.copy()\n",
    "\n",
    "data_one_hot_encoded = pd.get_dummies(data_categorical, columns = column_labels)\n"
   ]
  },
  {
   "cell_type": "markdown",
   "id": "2b332493-7f94-4c7e-ba39-f271ff5e6bf5",
   "metadata": {},
   "source": [
    "The code below changes the columna that may have a bracket, comma or inequality sign in their label to an underscore. This will prevent errors later when trying to run our data through the algorithm."
   ]
  },
  {
   "cell_type": "code",
   "execution_count": null,
   "id": "e9efdadf-28e2-451f-b34a-088a08bdf475",
   "metadata": {},
   "outputs": [],
   "source": [
    "import re\n",
    "regex = re.compile(r\"\\[|\\]|<\", re.IGNORECASE)\n",
    "data_one_hot_encoded.columns = [regex.sub(\"_\", col) if any(x in str(col) for x in set(('[', ']', '<'))) else col \n",
    "                                for col in data_one_hot_encoded.columns.values]"
   ]
  },
  {
   "cell_type": "markdown",
   "id": "195811ff-0993-4e6e-8f21-88ed9eae6b3b",
   "metadata": {},
   "source": [
    "Let us view the new columns after the change from categorical data to binary data. "
   ]
  },
  {
   "cell_type": "code",
   "execution_count": null,
   "id": "b5663d05-65cc-4634-a99c-bf927c46f7e8",
   "metadata": {},
   "outputs": [],
   "source": [
    "data_one_hot_encoded.columns.tolist()"
   ]
  },
  {
   "cell_type": "markdown",
   "id": "6c72fa5b-8e39-4016-b1eb-29475165ff80",
   "metadata": {
    "tags": []
   },
   "source": [
    "As can be seen above, there are a lot more columns. This is necessary because we cannot build learning models from categorical data. There are 458 columns now as opposed to 11 before to account for the categorical data."
   ]
  },
  {
   "cell_type": "markdown",
   "id": "adca85f9-2f9b-491b-a42f-760b0dd7d351",
   "metadata": {},
   "source": [
    "# **Building Our Model Like the XGBoost model in the UCLA paper**"
   ]
  },
  {
   "cell_type": "markdown",
   "id": "17d80727-875a-438a-a326-49d068fd9ebb",
   "metadata": {},
   "source": [
    "Before building the model, lets split our target feature from our other features"
   ]
  },
  {
   "cell_type": "code",
   "execution_count": null,
   "id": "2d13d442-497d-4be2-8371-75268a554f21",
   "metadata": {},
   "outputs": [],
   "source": [
    "X = data_one_hot_encoded.drop(columns = ['Risk_Flag'])\n",
    "X"
   ]
  },
  {
   "cell_type": "code",
   "execution_count": null,
   "id": "e70b4e65-a9bd-4805-aa88-11eb46f757f7",
   "metadata": {},
   "outputs": [],
   "source": [
    "Y = pd.DataFrame(data_one_hot_encoded['Risk_Flag'])"
   ]
  },
  {
   "cell_type": "markdown",
   "id": "8a79dd3c-a40a-49de-8112-f615fc74f31e",
   "metadata": {},
   "source": [
    "Here, we are implementing our algorithm. Our algorithm will have the same parameters as the XGBoost algorithm in the paper."
   ]
  },
  {
   "cell_type": "code",
   "execution_count": null,
   "id": "f6582637-10ab-4a0c-9fa2-f0c0eb9faf79",
   "metadata": {},
   "outputs": [],
   "source": [
    "from xgboost import XGBClassifier\n",
    "from sklearn.metrics import precision_score, recall_score, accuracy_score, f1_score\n",
    "\n",
    "\n",
    "#Parameters filled for the XGBClassifier are the same as in the UCLA paper\n",
    "xgb_model = XGBClassifier(n_estimators=300, max_depth = 3, learning_rate = 0.05, use_label_encoder=False, eval_metric='mlogloss', scale_pos_weight=7.1)\n",
    "\n",
    "\n",
    "accuracy_list = []\n",
    "recall_list = []\n",
    "precision_list = []\n",
    "f1_score_list = []"
   ]
  },
  {
   "cell_type": "markdown",
   "id": "b78ce78d-aad6-4654-bb47-1091b0087327",
   "metadata": {},
   "source": [
    "## K Fold Cross Validation for XGBoost from UCLA Paper"
   ]
  },
  {
   "cell_type": "markdown",
   "id": "63510c7f-d7b7-48ba-9d06-410d23b248e2",
   "metadata": {},
   "source": [
    "Cross-validation is a statistical method used to evaluate the skill of machine learning models. It uses resampling techniques to evaluate a model. K Fold Cross Validation has a single parameter called k that refers to the number of groups that a given data sample is to be split into. It will run the model on each group which will have its own train and test set and then it will store the evaluation metrics. The model is then discarded and relearned and evaluated using the next group and so on until there are no more groups. The difference between KFold and Stratified KFold which we will implement below is that KFold will randomly sample the data to form the groups. In Stratified K-Fold, the sampling is still selected at random but the proportion of observations regarding the target values remain the same."
   ]
  },
  {
   "cell_type": "markdown",
   "id": "fece094e-bd2a-4558-b51f-adcd00638267",
   "metadata": {},
   "source": [
    "Below we implement K-Fold cross validation. We will run it 3 times, where k=3, k=5 and k=10. We chose these values as they are the most common splits used and studied in experimentation."
   ]
  },
  {
   "cell_type": "code",
   "execution_count": null,
   "id": "9f4e3c3a-8a06-408e-a95d-0a8ad6b0c3bc",
   "metadata": {},
   "outputs": [],
   "source": [
    "from sklearn.model_selection import KFold\n",
    "import numpy as np\n",
    "kfcv3 = KFold(n_splits=3, random_state = 1, shuffle = True)\n",
    "kfcv5 = KFold(n_splits=5, random_state = 1, shuffle = True)\n",
    "kfcv10 = KFold(n_splits=10,  random_state = 1, shuffle = True)"
   ]
  },
  {
   "cell_type": "markdown",
   "id": "874e88d3-4f8a-4afd-9fde-4b32f95bdfda",
   "metadata": {},
   "source": [
    "### 3-Fold Cross Validation"
   ]
  },
  {
   "cell_type": "code",
   "execution_count": null,
   "id": "52a10cb1-77d3-4159-a573-3d8b6a2ad7e7",
   "metadata": {},
   "outputs": [],
   "source": [
    "%%time\n",
    "for train, test in kfcv3.split(X, Y):\n",
    "    x_train_one_fold, x_test_one_fold = X.iloc[train], X.iloc[test]\n",
    "    y_train_one_fold, y_test_one_fold = Y.iloc[train], Y.iloc[test]\n",
    "    xgb_model.fit(x_train_one_fold, y_train_one_fold)\n",
    "    preds = xgb_model.predict(x_test_one_fold)\n",
    "    precision_list.append(precision_score(y_test_one_fold, preds, average='macro', pos_label=1))\n",
    "    recall_list.append(recall_score(y_test_one_fold, preds, average='macro', pos_label=1))\n",
    "    f1_score_list.append(f1_score(y_test_one_fold, preds, average='macro', pos_label=1))\n",
    "    accuracy_list.append(accuracy_score(y_test_one_fold, preds))"
   ]
  },
  {
   "cell_type": "code",
   "execution_count": null,
   "id": "63d63af6-8f49-4434-b562-11d56dd70528",
   "metadata": {},
   "outputs": [],
   "source": [
    "print('Accuracy_Scores ...... Precision_Scores ...... Recall_Scores ...... F1_Scores')\n",
    "\n",
    "for i in range(3):\n",
    "    print(round(accuracy_list[i],5), '              ' , round(precision_list[i], 5), '              ', round(recall_list[i],5), '              ', round(f1_score_list[i], 5))"
   ]
  },
  {
   "cell_type": "code",
   "execution_count": null,
   "id": "12565647-4528-4f8c-838c-1ef4c7056be2",
   "metadata": {},
   "outputs": [],
   "source": [
    "avg_accuracy_kfcv3 = sum(accuracy_list) / len(accuracy_list)\n",
    "avg_precision_kfcv3 = sum(precision_list) / len(precision_list)\n",
    "avg_recall_kfcv3 = sum(recall_list) / len(recall_list)\n",
    "avg_f1_score_kfcv3 = sum(f1_score_list) / len(f1_score_list)"
   ]
  },
  {
   "cell_type": "code",
   "execution_count": null,
   "id": "dbfbba75-5b5c-4689-a5d6-42b85a1c9017",
   "metadata": {},
   "outputs": [],
   "source": [
    "accuracy_list.clear()\n",
    "precision_list.clear()\n",
    "recall_list.clear()\n",
    "f1_score_list.clear()"
   ]
  },
  {
   "cell_type": "markdown",
   "id": "9cecf815-5353-49c7-a560-051c251586f4",
   "metadata": {},
   "source": [
    "### 5-Fold Cross Validation"
   ]
  },
  {
   "cell_type": "code",
   "execution_count": null,
   "id": "bd75b276-cf0f-44f5-8e55-76b62234bf7c",
   "metadata": {},
   "outputs": [],
   "source": [
    "%%time\n",
    "for train, test in kfcv5.split(X, Y):\n",
    "    x_train_one_fold, x_test_one_fold = X.iloc[train], X.iloc[test]\n",
    "    y_train_one_fold, y_test_one_fold = Y.iloc[train], Y.iloc[test]\n",
    "    xgb_model.fit(x_train_one_fold, y_train_one_fold)\n",
    "    preds = xgb_model.predict(x_test_one_fold)\n",
    "    precision_list.append(precision_score(y_test_one_fold, preds, average='macro', pos_label=1))\n",
    "    recall_list.append(recall_score(y_test_one_fold, preds, average='macro', pos_label=1))\n",
    "    f1_score_list.append(f1_score(y_test_one_fold, preds, average='macro', pos_label=1))\n",
    "    accuracy_list.append(accuracy_score(y_test_one_fold, preds))"
   ]
  },
  {
   "cell_type": "code",
   "execution_count": null,
   "id": "164ad22f-e882-413c-a107-ef24c2b18b35",
   "metadata": {},
   "outputs": [],
   "source": [
    "print('Accuracy_Scores ...... Precision_Scores ...... Recall_Scores ...... F1_Scores')\n",
    "\n",
    "for i in range(5):\n",
    "    print(round(accuracy_list[i],5), '              ' , round(precision_list[i], 5), '              ', round(recall_list[i],5), '              ', round(f1_score_list[i], 5))"
   ]
  },
  {
   "cell_type": "code",
   "execution_count": null,
   "id": "bb83cf9d-84b0-4a77-859c-e976fefb4377",
   "metadata": {},
   "outputs": [],
   "source": [
    "avg_accuracy_kfcv5 = sum(accuracy_list) / len(accuracy_list)\n",
    "avg_precision_kfcv5 = sum(precision_list) / len(precision_list)\n",
    "avg_recall_kfcv5 = sum(recall_list) / len(recall_list)\n",
    "avg_f1_score_kfcv5 = sum(f1_score_list) / len(f1_score_list)"
   ]
  },
  {
   "cell_type": "code",
   "execution_count": null,
   "id": "f07edfcd-eadf-4c63-9553-969689a73fce",
   "metadata": {},
   "outputs": [],
   "source": [
    "accuracy_list.clear()\n",
    "precision_list.clear()\n",
    "recall_list.clear()\n",
    "f1_score_list.clear()"
   ]
  },
  {
   "cell_type": "markdown",
   "id": "695e0351-2c13-4ceb-b191-c0b4e1657fcd",
   "metadata": {},
   "source": [
    "### 10-Fold Cross Validation"
   ]
  },
  {
   "cell_type": "code",
   "execution_count": null,
   "id": "cefaf2cf-9249-4517-bd70-436a56327413",
   "metadata": {},
   "outputs": [],
   "source": [
    "%%time\n",
    "for train, test in kfcv10.split(X, Y):\n",
    "    x_train_one_fold, x_test_one_fold = X.iloc[train], X.iloc[test]\n",
    "    y_train_one_fold, y_test_one_fold = Y.iloc[train], Y.iloc[test]\n",
    "    xgb_model.fit(x_train_one_fold, y_train_one_fold)\n",
    "    preds = xgb_model.predict(x_test_one_fold)\n",
    "    precision_list.append(precision_score(y_test_one_fold, preds, average='macro', pos_label=1))\n",
    "    recall_list.append(recall_score(y_test_one_fold, preds, average='macro', pos_label=1))\n",
    "    f1_score_list.append(f1_score(y_test_one_fold, preds, average='macro', pos_label=1))\n",
    "    accuracy_list.append(accuracy_score(y_test_one_fold, preds))"
   ]
  },
  {
   "cell_type": "code",
   "execution_count": null,
   "id": "29d5dcda-4582-4f17-ad89-18eb60770345",
   "metadata": {},
   "outputs": [],
   "source": [
    "print('Accuracy_Scores ...... Precision_Scores ...... Recall_Scores ...... F1_Scores')\n",
    "\n",
    "for i in range(10):\n",
    "    print(round(accuracy_list[i],5), '              ' , round(precision_list[i], 5), '              ', round(recall_list[i],5), '              ', round(f1_score_list[i], 5))"
   ]
  },
  {
   "cell_type": "code",
   "execution_count": null,
   "id": "ba0fdc81-75bd-4c20-8dec-ba67e6067b0e",
   "metadata": {},
   "outputs": [],
   "source": [
    "avg_accuracy_kfcv10 = sum(accuracy_list) / len(accuracy_list)\n",
    "avg_precision_kfcv10 = sum(precision_list) / len(precision_list)\n",
    "avg_recall_kfcv10 = sum(recall_list) / len(recall_list)\n",
    "avg_f1_score_kfcv10 = sum(f1_score_list) / len(f1_score_list)"
   ]
  },
  {
   "cell_type": "code",
   "execution_count": null,
   "id": "1d030286-6474-4923-8006-5955eec5dd2c",
   "metadata": {},
   "outputs": [],
   "source": [
    "accuracy_list.clear()\n",
    "precision_list.clear()\n",
    "recall_list.clear()\n",
    "f1_score_list.clear()"
   ]
  },
  {
   "cell_type": "markdown",
   "id": "c2929dc9-fe43-404c-9e69-f860cb8097e5",
   "metadata": {},
   "source": [
    "### Visualization of Results for XGBoost from UCLA paper using K-Fold "
   ]
  },
  {
   "cell_type": "code",
   "execution_count": null,
   "id": "487298f9-7d6b-4da7-9b72-9e86bdf68962",
   "metadata": {},
   "outputs": [],
   "source": [
    "import matplotlib.pyplot as plt\n",
    "data = [[avg_accuracy_kfcv3, avg_accuracy_kfcv5, avg_accuracy_kfcv10],\n",
    "       [avg_precision_kfcv3, avg_precision_kfcv5, avg_precision_kfcv10],\n",
    "       [avg_recall_kfcv3, avg_recall_kfcv5, avg_recall_kfcv10],\n",
    "       [avg_f1_score_kfcv3, avg_f1_score_kfcv5, avg_f1_score_kfcv10]]\n",
    "x = np.arange(3)\n",
    "fig = plt.figure()\n",
    "ax = fig.add_axes([0,0,1,1])\n",
    "\n",
    "ax.bar(x + 0.0, data[0], color = 'b', width = 0.2)\n",
    "ax.bar(x + 0.2, data[1], color = 'g', width = 0.2)\n",
    "ax.bar(x + 0.4, data[2], color = 'r', width = 0.2)\n",
    "ax.bar(x + 0.6, data[3], color = 'y', width = 0.2)\n",
    "ax.set_xticks(x + 0.3)\n",
    "ax.set_title('XGBoost from UCLA Paper with K-Fold Cross Validation')\n",
    "ax.set_xticklabels(['K = 3', 'K = 5', 'K = 10'])\n",
    "ax.legend(labels = ['Accuracy', 'Precision', 'Recall', 'F1 Score'], bbox_to_anchor=(1.05, 1), loc='upper left')"
   ]
  },
  {
   "cell_type": "markdown",
   "id": "bb6ec251-36d6-4c50-8b30-bc6237e40ba3",
   "metadata": {},
   "source": [
    "## Stratified K-Fold Cross Validation for XGBoost from UCLA paper"
   ]
  },
  {
   "cell_type": "markdown",
   "id": "145d7861-3a2f-45e8-9ed6-932d1402932d",
   "metadata": {},
   "source": [
    "Stratified K-Fold, as explained above, is a type of cross validation technique that will split the data into K Folds while maintaining proportion of the target values as is the main dataframe in all the k groups. Below is the implementation using k=3, k=5 and k=10."
   ]
  },
  {
   "cell_type": "code",
   "execution_count": null,
   "id": "696c3d44-72fe-439e-8cfd-6e4bc21668b9",
   "metadata": {},
   "outputs": [],
   "source": [
    "from sklearn.model_selection import StratifiedKFold\n",
    "skfcv3 = StratifiedKFold(n_splits=3,random_state=1, shuffle=True)\n",
    "skfcv5 = StratifiedKFold(n_splits=5,random_state=1, shuffle=True)\n",
    "skfcv10 = StratifiedKFold(n_splits=10,random_state=1, shuffle=True)"
   ]
  },
  {
   "cell_type": "markdown",
   "id": "df2b456c-6615-44b9-b8e6-90705cc76ec8",
   "metadata": {},
   "source": [
    "### Stratified 3-Fold Cross Validation"
   ]
  },
  {
   "cell_type": "code",
   "execution_count": null,
   "id": "7cdaff3b-8b05-4734-b84e-713d45401ad4",
   "metadata": {},
   "outputs": [],
   "source": [
    "%%time\n",
    "for train, test in skfcv3.split(X, Y):\n",
    "    x_train_one_fold, x_test_one_fold = X.iloc[train], X.iloc[test]\n",
    "    y_train_one_fold, y_test_one_fold = Y.iloc[train], Y.iloc[test]\n",
    "    xgb_model.fit(x_train_one_fold, y_train_one_fold)\n",
    "    preds = xgb_model.predict(x_test_one_fold)\n",
    "    precision_list.append(precision_score(y_test_one_fold, preds, average='macro', pos_label=1))\n",
    "    recall_list.append(recall_score(y_test_one_fold, preds, average='macro', pos_label=1))\n",
    "    f1_score_list.append(f1_score(y_test_one_fold, preds, average='macro', pos_label=1))\n",
    "    accuracy_list.append(accuracy_score(y_test_one_fold, preds))"
   ]
  },
  {
   "cell_type": "code",
   "execution_count": null,
   "id": "da5af56a-0645-488a-8afb-504de21dfc55",
   "metadata": {},
   "outputs": [],
   "source": [
    "print('Accuracy_Scores ...... Precision_Scores ...... Recall_Scores ...... F1_Scores')\n",
    "\n",
    "for i in range(3):\n",
    "    print(round(accuracy_list[i],5), '              ' , round(precision_list[i], 5), '              ', round(recall_list[i],5), '              ', round(f1_score_list[i], 5))"
   ]
  },
  {
   "cell_type": "code",
   "execution_count": null,
   "id": "15249081-8025-4869-bb43-c283373dca45",
   "metadata": {},
   "outputs": [],
   "source": [
    "avg_accuracy_skfcv3 = sum(accuracy_list) / len(accuracy_list)\n",
    "avg_precision_skfcv3 = sum(precision_list) / len(precision_list)\n",
    "avg_recall_skfcv3 = sum(recall_list) / len(recall_list)\n",
    "avg_f1_score_skfcv3 = sum(f1_score_list) / len(f1_score_list)"
   ]
  },
  {
   "cell_type": "code",
   "execution_count": null,
   "id": "54834485-b775-457c-848a-8857a5a566c3",
   "metadata": {},
   "outputs": [],
   "source": [
    "accuracy_list.clear()\n",
    "precision_list.clear()\n",
    "recall_list.clear()\n",
    "f1_score_list.clear()"
   ]
  },
  {
   "cell_type": "markdown",
   "id": "35b7e4ab-9cfb-4740-ae31-b495a7b043b5",
   "metadata": {},
   "source": [
    "### Stratified 5-Fold Cross Validation"
   ]
  },
  {
   "cell_type": "code",
   "execution_count": null,
   "id": "3f306dfb-3a4a-443b-aca1-21faefd385fe",
   "metadata": {},
   "outputs": [],
   "source": [
    "%%time\n",
    "for train, test in skfcv5.split(X, Y):\n",
    "    x_train_one_fold, x_test_one_fold = X.iloc[train], X.iloc[test]\n",
    "    y_train_one_fold, y_test_one_fold = Y.iloc[train], Y.iloc[test]\n",
    "    xgb_model.fit(x_train_one_fold, y_train_one_fold)\n",
    "    preds = xgb_model.predict(x_test_one_fold)\n",
    "    precision_list.append(precision_score(y_test_one_fold, preds, average='macro', pos_label=1))\n",
    "    recall_list.append(recall_score(y_test_one_fold, preds, average='macro', pos_label=1))\n",
    "    f1_score_list.append(f1_score(y_test_one_fold, preds, average='macro', pos_label=1))\n",
    "    accuracy_list.append(accuracy_score(y_test_one_fold, preds))"
   ]
  },
  {
   "cell_type": "code",
   "execution_count": null,
   "id": "1c6c95b6-abee-40d3-97da-104e5b3517c9",
   "metadata": {},
   "outputs": [],
   "source": [
    "print('Accuracy_Scores ...... Precision_Scores ...... Recall_Scores ...... F1_Scores')\n",
    "\n",
    "for i in range(5):\n",
    "    print(round(accuracy_list[i],5), '              ' , round(precision_list[i], 5), '              ', round(recall_list[i],5), '              ', round(f1_score_list[i], 5))"
   ]
  },
  {
   "cell_type": "code",
   "execution_count": null,
   "id": "b35a2a19-5420-4ce4-b536-4ca63ab583f7",
   "metadata": {},
   "outputs": [],
   "source": [
    "avg_accuracy_skfcv5 = sum(accuracy_list) / len(accuracy_list)\n",
    "avg_precision_skfcv5 = sum(precision_list) / len(precision_list)\n",
    "avg_recall_skfcv5 = sum(recall_list) / len(recall_list)\n",
    "avg_f1_score_skfcv5 = sum(f1_score_list) / len(f1_score_list)"
   ]
  },
  {
   "cell_type": "code",
   "execution_count": null,
   "id": "b8f523d2-2bba-42c7-a757-df6e30add8c2",
   "metadata": {},
   "outputs": [],
   "source": [
    "accuracy_list.clear()\n",
    "precision_list.clear()\n",
    "recall_list.clear()\n",
    "f1_score_list.clear()"
   ]
  },
  {
   "cell_type": "markdown",
   "id": "dc704473-f51d-460d-baa9-2abb5622cc54",
   "metadata": {},
   "source": [
    "### Stratified 10-Fold Cross Validation"
   ]
  },
  {
   "cell_type": "code",
   "execution_count": null,
   "id": "ffa8cb42-53a3-4af6-8ba1-764ef2f45878",
   "metadata": {},
   "outputs": [],
   "source": [
    "%%time\n",
    "for train, test in skfcv10.split(X, Y):\n",
    "    x_train_one_fold, x_test_one_fold = X.iloc[train], X.iloc[test]\n",
    "    y_train_one_fold, y_test_one_fold = Y.iloc[train], Y.iloc[test]\n",
    "    xgb_model.fit(x_train_one_fold, y_train_one_fold)\n",
    "    preds = xgb_model.predict(x_test_one_fold)\n",
    "    precision_list.append(precision_score(y_test_one_fold, preds, average='macro', pos_label=1))\n",
    "    recall_list.append(recall_score(y_test_one_fold, preds, average='macro', pos_label=1))\n",
    "    f1_score_list.append(f1_score(y_test_one_fold, preds, average='macro', pos_label=1))\n",
    "    accuracy_list.append(accuracy_score(y_test_one_fold, preds))"
   ]
  },
  {
   "cell_type": "code",
   "execution_count": null,
   "id": "d1a03fa0-717c-46ef-9e9a-03b88a27c4f1",
   "metadata": {},
   "outputs": [],
   "source": [
    "print('Accuracy_Scores ...... Precision_Scores ...... Recall_Scores ...... F1_Scores')\n",
    "\n",
    "for i in range(10):\n",
    "    print(round(accuracy_list[i],5), '              ' , round(precision_list[i], 5), '              ', round(recall_list[i],5), '              ', round(f1_score_list[i], 5))"
   ]
  },
  {
   "cell_type": "code",
   "execution_count": null,
   "id": "5874c0eb-4993-4319-a42e-ab4c0435234a",
   "metadata": {},
   "outputs": [],
   "source": [
    "avg_accuracy_skfcv10 = sum(accuracy_list) / len(accuracy_list)\n",
    "avg_precision_skfcv10 = sum(precision_list) / len(precision_list)\n",
    "avg_recall_skfcv10 = sum(recall_list) / len(recall_list)\n",
    "avg_f1_score_skfcv10 = sum(f1_score_list) / len(f1_score_list)"
   ]
  },
  {
   "cell_type": "code",
   "execution_count": null,
   "id": "15cb9ca3-a7f2-48c1-86b9-ba7e166110e5",
   "metadata": {},
   "outputs": [],
   "source": [
    "accuracy_list.clear()\n",
    "precision_list.clear()\n",
    "recall_list.clear()\n",
    "f1_score_list.clear()"
   ]
  },
  {
   "cell_type": "markdown",
   "id": "181cbc52-ad53-453f-b497-7e47a59552bf",
   "metadata": {},
   "source": [
    "### Visualization of Results for XGBoost from UCLA paper using Stratified K-Fold "
   ]
  },
  {
   "cell_type": "code",
   "execution_count": null,
   "id": "ab228a80-3d73-4532-bf19-f6f600f407d6",
   "metadata": {},
   "outputs": [],
   "source": [
    "import matplotlib.pyplot as plt\n",
    "data = [[avg_accuracy_skfcv3, avg_accuracy_skfcv5, avg_accuracy_skfcv10],\n",
    "       [avg_precision_skfcv3, avg_precision_skfcv5, avg_precision_skfcv10],\n",
    "       [avg_recall_skfcv3, avg_recall_skfcv5, avg_recall_skfcv10],\n",
    "       [avg_f1_score_skfcv3, avg_f1_score_skfcv5, avg_f1_score_skfcv10]]\n",
    "x = np.arange(3)\n",
    "fig = plt.figure()\n",
    "ax = fig.add_axes([0,0,1,1])\n",
    "\n",
    "ax.bar(x + 0.0, data[0], color = 'b', width = 0.2)\n",
    "ax.bar(x + 0.2, data[1], color = 'g', width = 0.2)\n",
    "ax.bar(x + 0.4, data[2], color = 'r', width = 0.2)\n",
    "ax.bar(x + 0.6, data[3], color = 'y', width = 0.2)\n",
    "ax.set_xticks(x + 0.3)\n",
    "ax.set_title('XGBoost from UCLA Paper with Stratified K-Fold Cross Validation')\n",
    "ax.set_xticklabels(['K = 3', 'K = 5', 'K = 10'])\n",
    "ax.legend(labels = ['Accuracy', 'Precision', 'Recall', 'F1 Score'], bbox_to_anchor=(1.05, 1), loc='upper left')"
   ]
  },
  {
   "cell_type": "markdown",
   "id": "54bde141-fefa-4540-b68a-175f4bdfc985",
   "metadata": {},
   "source": [
    "# **Building the Standard XGBoost model**"
   ]
  },
  {
   "cell_type": "markdown",
   "id": "3144d82e-47ca-4d6e-a956-472ee657cd40",
   "metadata": {},
   "source": [
    "Here, we are implementing the standard XGBoost algorithm that contains less parameters than that of the paper."
   ]
  },
  {
   "cell_type": "code",
   "execution_count": null,
   "id": "d0f5ddea-0e18-4003-b995-d9b8c8450b68",
   "metadata": {},
   "outputs": [],
   "source": [
    "from xgboost import XGBClassifier\n",
    "from sklearn.metrics import precision_score, recall_score, accuracy_score, f1_score, classification_report\n",
    "\n",
    "xgb_model = XGBClassifier(use_label_encoder=False, eval_metric='mlogloss', scale_pos_weight=7.1)\n",
    "\n",
    "\n",
    "accuracy_list = []\n",
    "recall_list = []\n",
    "precision_list = []\n",
    "f1_score_list = []"
   ]
  },
  {
   "cell_type": "markdown",
   "id": "07f681e7-f552-4b29-8cd5-aa8ebc49e70c",
   "metadata": {},
   "source": [
    "## K-Fold Cross Validation for Standard XGBoost"
   ]
  },
  {
   "cell_type": "code",
   "execution_count": null,
   "id": "d3c56ff7-b3e8-4bff-99a3-09a6206d510c",
   "metadata": {},
   "outputs": [],
   "source": [
    "from sklearn.model_selection import KFold\n",
    "import numpy as np\n",
    "kfcv3 = KFold(n_splits=3, random_state = 1, shuffle = True)\n",
    "kfcv5 = KFold(n_splits=5, random_state = 1, shuffle = True)\n",
    "kfcv10 = KFold(n_splits=10,  random_state = 1, shuffle = True)"
   ]
  },
  {
   "cell_type": "markdown",
   "id": "cbeed86b-ce0d-46b8-8b7b-794c01431e90",
   "metadata": {},
   "source": [
    "### 3-Fold Cross Validation"
   ]
  },
  {
   "cell_type": "code",
   "execution_count": null,
   "id": "6fdee7d1-aa9e-47d8-b0ed-7584c0236a78",
   "metadata": {},
   "outputs": [],
   "source": [
    "%%time\n",
    "for train, test in kfcv3.split(X, Y):\n",
    "    x_train_one_fold, x_test_one_fold = X.iloc[train], X.iloc[test]\n",
    "    y_train_one_fold, y_test_one_fold = Y.iloc[train], Y.iloc[test]\n",
    "    xgb_model.fit(x_train_one_fold, y_train_one_fold)\n",
    "    preds = xgb_model.predict(x_test_one_fold)\n",
    "    precision_list.append(precision_score(y_test_one_fold, preds, average='macro', pos_label=1))\n",
    "    recall_list.append(recall_score(y_test_one_fold, preds, average='macro', pos_label=1))\n",
    "    f1_score_list.append(f1_score(y_test_one_fold, preds, average='macro', pos_label=1))\n",
    "    accuracy_list.append(accuracy_score(y_test_one_fold, preds))"
   ]
  },
  {
   "cell_type": "code",
   "execution_count": null,
   "id": "9ebea546-f97f-439f-8015-fcd1a7660fd4",
   "metadata": {},
   "outputs": [],
   "source": [
    "print('Accuracy_Scores ...... Precision_Scores ...... Recall_Scores ...... F1_Scores')\n",
    "\n",
    "for i in range(3):\n",
    "    print(round(accuracy_list[i],5), '              ' , round(precision_list[i], 5), '              ', round(recall_list[i],5), '              ', round(f1_score_list[i], 5))"
   ]
  },
  {
   "cell_type": "code",
   "execution_count": null,
   "id": "32ae6ffc-54bb-4b54-810c-b622f7c0a9d5",
   "metadata": {},
   "outputs": [],
   "source": [
    "avg_accuracy_kfcv3 = sum(accuracy_list) / len(accuracy_list)\n",
    "avg_precision_kfcv3 = sum(precision_list) / len(precision_list)\n",
    "avg_recall_kfcv3 = sum(recall_list) / len(recall_list)\n",
    "avg_f1_score_kfcv3 = sum(f1_score_list) / len(f1_score_list)"
   ]
  },
  {
   "cell_type": "code",
   "execution_count": null,
   "id": "32d9b1b6-d4c7-429c-9fd8-8222129c219d",
   "metadata": {},
   "outputs": [],
   "source": [
    "accuracy_list.clear()\n",
    "precision_list.clear()\n",
    "recall_list.clear()\n",
    "f1_score_list.clear()"
   ]
  },
  {
   "cell_type": "markdown",
   "id": "5fa93607-65bc-4fbb-b59d-049877391a6f",
   "metadata": {},
   "source": [
    "### 5-Fold Cross Validation"
   ]
  },
  {
   "cell_type": "code",
   "execution_count": null,
   "id": "325cf6a5-4f6f-4839-8dbb-9e4784c71613",
   "metadata": {},
   "outputs": [],
   "source": [
    "%%time\n",
    "for train, test in kfcv5.split(X, Y):\n",
    "    x_train_one_fold, x_test_one_fold = X.iloc[train], X.iloc[test]\n",
    "    y_train_one_fold, y_test_one_fold = Y.iloc[train], Y.iloc[test]\n",
    "    xgb_model.fit(x_train_one_fold, y_train_one_fold)\n",
    "    preds = xgb_model.predict(x_test_one_fold)\n",
    "    precision_list.append(precision_score(y_test_one_fold, preds, average='macro', pos_label=1))\n",
    "    recall_list.append(recall_score(y_test_one_fold, preds, average='macro', pos_label=1))\n",
    "    f1_score_list.append(f1_score(y_test_one_fold, preds, average='macro', pos_label=1))\n",
    "    accuracy_list.append(accuracy_score(y_test_one_fold, preds))"
   ]
  },
  {
   "cell_type": "code",
   "execution_count": null,
   "id": "7108cc8d-8d63-40fa-9f55-4120f8260625",
   "metadata": {},
   "outputs": [],
   "source": [
    "print('Accuracy_Scores ...... Precision_Scores ...... Recall_Scores ...... F1_Scores')\n",
    "\n",
    "for i in range(5):\n",
    "    print(round(accuracy_list[i],5), '              ' , round(precision_list[i], 5), '              ', round(recall_list[i],5), '              ', round(f1_score_list[i], 5))"
   ]
  },
  {
   "cell_type": "code",
   "execution_count": null,
   "id": "3ce5784f-2a4f-4e2a-a0c7-9078431aa378",
   "metadata": {},
   "outputs": [],
   "source": [
    "avg_accuracy_kfcv5 = sum(accuracy_list) / len(accuracy_list)\n",
    "avg_precision_kfcv5 = sum(precision_list) / len(precision_list)\n",
    "avg_recall_kfcv5 = sum(recall_list) / len(recall_list)\n",
    "avg_f1_score_kfcv5 = sum(f1_score_list) / len(f1_score_list)"
   ]
  },
  {
   "cell_type": "code",
   "execution_count": null,
   "id": "85592ee3-0cc8-4efa-8215-62836ab5a278",
   "metadata": {},
   "outputs": [],
   "source": [
    "accuracy_list.clear()\n",
    "precision_list.clear()\n",
    "recall_list.clear()\n",
    "f1_score_list.clear()"
   ]
  },
  {
   "cell_type": "markdown",
   "id": "57c494da-8249-4738-8ffe-334e73668281",
   "metadata": {},
   "source": [
    "### 10-Fold Cross Validation"
   ]
  },
  {
   "cell_type": "code",
   "execution_count": null,
   "id": "ed35d024-6c41-433d-bd92-4c8720e45a09",
   "metadata": {},
   "outputs": [],
   "source": [
    "%%time\n",
    "for train, test in kfcv10.split(X, Y):\n",
    "    x_train_one_fold, x_test_one_fold = X.iloc[train], X.iloc[test]\n",
    "    y_train_one_fold, y_test_one_fold = Y.iloc[train], Y.iloc[test]\n",
    "    xgb_model.fit(x_train_one_fold, y_train_one_fold)\n",
    "    preds = xgb_model.predict(x_test_one_fold)\n",
    "    precision_list.append(precision_score(y_test_one_fold, preds, average='macro', pos_label=1))\n",
    "    recall_list.append(recall_score(y_test_one_fold, preds, average='macro', pos_label=1))\n",
    "    f1_score_list.append(f1_score(y_test_one_fold, preds, average='macro', pos_label=1))\n",
    "    accuracy_list.append(accuracy_score(y_test_one_fold, preds))"
   ]
  },
  {
   "cell_type": "code",
   "execution_count": null,
   "id": "dbfa5ccd-61d0-46ac-9f16-2ea154848fb4",
   "metadata": {},
   "outputs": [],
   "source": [
    "print('Accuracy_Scores ...... Precision_Scores ...... Recall_Scores ...... F1_Scores')\n",
    "\n",
    "for i in range(10):\n",
    "    print(round(accuracy_list[i],5), '              ' , round(precision_list[i], 5), '              ', round(recall_list[i],5), '              ', round(f1_score_list[i], 5))"
   ]
  },
  {
   "cell_type": "code",
   "execution_count": null,
   "id": "1470c9dc-85d0-491f-a5dd-f1d9db27233a",
   "metadata": {},
   "outputs": [],
   "source": [
    "avg_accuracy_kfcv10 = sum(accuracy_list) / len(accuracy_list)\n",
    "avg_precision_kfcv10 = sum(precision_list) / len(precision_list)\n",
    "avg_recall_kfcv10 = sum(recall_list) / len(recall_list)\n",
    "avg_f1_score_kfcv10 = sum(f1_score_list) / len(f1_score_list)"
   ]
  },
  {
   "cell_type": "code",
   "execution_count": null,
   "id": "dabcb949-6500-47a9-a05d-2f38c45c12db",
   "metadata": {},
   "outputs": [],
   "source": [
    "accuracy_list.clear()\n",
    "precision_list.clear()\n",
    "recall_list.clear()\n",
    "f1_score_list.clear()"
   ]
  },
  {
   "cell_type": "markdown",
   "id": "e6851d35-bcee-42cb-a3dd-c9f0ee6f2694",
   "metadata": {},
   "source": [
    "### Visualization of Results for Standard XGBoost using K-Fold Cross Validation"
   ]
  },
  {
   "cell_type": "code",
   "execution_count": null,
   "id": "10562c45-d908-49e7-91aa-7bdc3a6fe08f",
   "metadata": {},
   "outputs": [],
   "source": [
    "import matplotlib.pyplot as plt\n",
    "data = [[avg_accuracy_kfcv3, avg_accuracy_kfcv5, avg_accuracy_kfcv10],\n",
    "       [avg_precision_kfcv3, avg_precision_kfcv5, avg_precision_kfcv10],\n",
    "       [avg_recall_kfcv3, avg_recall_kfcv5, avg_recall_kfcv10],\n",
    "       [avg_f1_score_kfcv3, avg_f1_score_kfcv5, avg_f1_score_kfcv10]]\n",
    "x = np.arange(3)\n",
    "fig = plt.figure()\n",
    "ax = fig.add_axes([0,0,1,1])\n",
    "\n",
    "ax.bar(x + 0.0, data[0], color = 'b', width = 0.2)\n",
    "ax.bar(x + 0.2, data[1], color = 'g', width = 0.2)\n",
    "ax.bar(x + 0.4, data[2], color = 'r', width = 0.2)\n",
    "ax.bar(x + 0.6, data[3], color = 'y', width = 0.2)\n",
    "ax.set_xticks(x + 0.3)\n",
    "ax.set_title('Standard XGBoost with K-Fold Cross Validation')\n",
    "ax.set_xticklabels(['K = 3', 'K = 5', 'K = 10'])\n",
    "ax.legend(labels = ['Accuracy', 'Precision', 'Recall', 'F1 Score'], bbox_to_anchor=(1.05, 1), loc='upper left')"
   ]
  },
  {
   "cell_type": "markdown",
   "id": "76a03f8c-0098-4dac-bee3-7465c5c30e70",
   "metadata": {},
   "source": [
    "## Stratified K-Fold Cross Validation for Standard XGBoost"
   ]
  },
  {
   "cell_type": "code",
   "execution_count": null,
   "id": "5498d346-e0b9-4a58-9567-5c00410ad574",
   "metadata": {},
   "outputs": [],
   "source": [
    "from sklearn.model_selection import StratifiedKFold\n",
    "skfcv3 = StratifiedKFold(n_splits=3,random_state=1, shuffle=True)\n",
    "skfcv5 = StratifiedKFold(n_splits=5,random_state=1, shuffle=True)\n",
    "skfcv10 = StratifiedKFold(n_splits=10,random_state=1, shuffle=True)"
   ]
  },
  {
   "cell_type": "markdown",
   "id": "560a4872-d10a-4412-9b24-770a5d96e356",
   "metadata": {},
   "source": [
    "### Stratified 3-Fold Cross Validation"
   ]
  },
  {
   "cell_type": "code",
   "execution_count": null,
   "id": "eb5fad51-a1f7-482c-9762-257a5989f1da",
   "metadata": {},
   "outputs": [],
   "source": [
    "%%time\n",
    "for train, test in skfcv3.split(X, Y):\n",
    "    x_train_one_fold, x_test_one_fold = X.iloc[train], X.iloc[test]\n",
    "    y_train_one_fold, y_test_one_fold = Y.iloc[train], Y.iloc[test]\n",
    "    xgb_model.fit(x_train_one_fold, y_train_one_fold)\n",
    "    preds = xgb_model.predict(x_test_one_fold)\n",
    "    precision_list.append(precision_score(y_test_one_fold, preds, average='macro', pos_label=1))\n",
    "    recall_list.append(recall_score(y_test_one_fold, preds, average='macro', pos_label=1))\n",
    "    f1_score_list.append(f1_score(y_test_one_fold, preds, average='macro', pos_label=1))\n",
    "    accuracy_list.append(accuracy_score(y_test_one_fold, preds))"
   ]
  },
  {
   "cell_type": "code",
   "execution_count": null,
   "id": "e187bcdf-abbf-4899-8d04-fdf5652e500c",
   "metadata": {},
   "outputs": [],
   "source": [
    "print('Accuracy_Scores ...... Precision_Scores ...... Recall_Scores ...... F1_Scores')\n",
    "\n",
    "for i in range(3):\n",
    "    print(round(accuracy_list[i],5), '              ' , round(precision_list[i], 5), '              ', round(recall_list[i],5), '              ', round(f1_score_list[i], 5))"
   ]
  },
  {
   "cell_type": "code",
   "execution_count": null,
   "id": "5c3df351-3ba0-4e6e-a8de-00839f225c39",
   "metadata": {},
   "outputs": [],
   "source": [
    "avg_accuracy_skfcv3 = sum(accuracy_list) / len(accuracy_list)\n",
    "avg_precision_skfcv3 = sum(precision_list) / len(precision_list)\n",
    "avg_recall_skfcv3 = sum(recall_list) / len(recall_list)\n",
    "avg_f1_score_skfcv3 = sum(f1_score_list) / len(f1_score_list)"
   ]
  },
  {
   "cell_type": "code",
   "execution_count": null,
   "id": "aa984454-2e39-4fd0-8c19-f0e1b173c4cf",
   "metadata": {},
   "outputs": [],
   "source": [
    "accuracy_list.clear()\n",
    "precision_list.clear()\n",
    "recall_list.clear()\n",
    "f1_score_list.clear()"
   ]
  },
  {
   "cell_type": "markdown",
   "id": "e1b719aa-f7ce-4e4a-a8c3-3e47bb242f6f",
   "metadata": {},
   "source": [
    "### Stratified 5-Fold Cross Validation"
   ]
  },
  {
   "cell_type": "code",
   "execution_count": null,
   "id": "05b371a9-07cb-4c40-8523-a219e415f86b",
   "metadata": {},
   "outputs": [],
   "source": [
    "%%time\n",
    "for train, test in skfcv5.split(X, Y):\n",
    "    x_train_one_fold, x_test_one_fold = X.iloc[train], X.iloc[test]\n",
    "    y_train_one_fold, y_test_one_fold = Y.iloc[train], Y.iloc[test]\n",
    "    xgb_model.fit(x_train_one_fold, y_train_one_fold)\n",
    "    preds = xgb_model.predict(x_test_one_fold)\n",
    "    precision_list.append(precision_score(y_test_one_fold, preds, average='macro', pos_label=1))\n",
    "    recall_list.append(recall_score(y_test_one_fold, preds, average='macro', pos_label=1))\n",
    "    f1_score_list.append(f1_score(y_test_one_fold, preds, average='macro', pos_label=1))\n",
    "    accuracy_list.append(accuracy_score(y_test_one_fold, preds))"
   ]
  },
  {
   "cell_type": "code",
   "execution_count": null,
   "id": "87f58c2f-5dee-4d67-9d57-985cd6828b1a",
   "metadata": {},
   "outputs": [],
   "source": [
    "print('Accuracy_Scores ...... Precision_Scores ...... Recall_Scores ...... F1_Scores')\n",
    "\n",
    "for i in range(5):\n",
    "    print(round(accuracy_list[i],5), '              ' , round(precision_list[i], 5), '              ', round(recall_list[i],5), '              ', round(f1_score_list[i], 5))"
   ]
  },
  {
   "cell_type": "code",
   "execution_count": null,
   "id": "6e19e3c1-0719-422d-b4ba-7271d9456345",
   "metadata": {},
   "outputs": [],
   "source": [
    "avg_accuracy_skfcv5 = sum(accuracy_list) / len(accuracy_list)\n",
    "avg_precision_skfcv5 = sum(precision_list) / len(precision_list)\n",
    "avg_recall_skfcv5 = sum(recall_list) / len(recall_list)\n",
    "avg_f1_score_skfcv5 = sum(f1_score_list) / len(f1_score_list)"
   ]
  },
  {
   "cell_type": "code",
   "execution_count": null,
   "id": "41a34006-96ba-4aa0-9d83-440a0a670d22",
   "metadata": {},
   "outputs": [],
   "source": [
    "accuracy_list.clear()\n",
    "precision_list.clear()\n",
    "recall_list.clear()\n",
    "f1_score_list.clear()"
   ]
  },
  {
   "cell_type": "markdown",
   "id": "73908bf1-ef9c-4466-ae8e-98a61e6c9c40",
   "metadata": {},
   "source": [
    "### Stratified 10-Fold Cross Validation"
   ]
  },
  {
   "cell_type": "code",
   "execution_count": null,
   "id": "27c22033-3575-4e4b-a28a-671fb55f2cda",
   "metadata": {},
   "outputs": [],
   "source": [
    "%%time\n",
    "for train, test in skfcv10.split(X, Y):\n",
    "    x_train_one_fold, x_test_one_fold = X.iloc[train], X.iloc[test]\n",
    "    y_train_one_fold, y_test_one_fold = Y.iloc[train], Y.iloc[test]\n",
    "    xgb_model.fit(x_train_one_fold, y_train_one_fold)\n",
    "    preds = xgb_model.predict(x_test_one_fold)\n",
    "    precision_list.append(precision_score(y_test_one_fold, preds, average='macro', pos_label=1))\n",
    "    recall_list.append(recall_score(y_test_one_fold, preds, average='macro', pos_label=1))\n",
    "    f1_score_list.append(f1_score(y_test_one_fold, preds, average='macro', pos_label=1))\n",
    "    accuracy_list.append(accuracy_score(y_test_one_fold, preds))"
   ]
  },
  {
   "cell_type": "code",
   "execution_count": null,
   "id": "14e0d1bb-b697-4e81-957a-d16c7f51a236",
   "metadata": {},
   "outputs": [],
   "source": [
    "print('Accuracy_Scores ...... Precision_Scores ...... Recall_Scores ...... F1_Scores')\n",
    "\n",
    "for i in range(10):\n",
    "    print(round(accuracy_list[i],5), '              ' , round(precision_list[i], 5), '              ', round(recall_list[i],5), '              ', round(f1_score_list[i], 5))"
   ]
  },
  {
   "cell_type": "code",
   "execution_count": null,
   "id": "f1ebcc39-1b6f-4bb1-96f5-bb6ae777e84c",
   "metadata": {},
   "outputs": [],
   "source": [
    "avg_accuracy_skfcv10 = sum(accuracy_list) / len(accuracy_list)\n",
    "avg_precision_skfcv10 = sum(precision_list) / len(precision_list)\n",
    "avg_recall_skfcv10 = sum(recall_list) / len(recall_list)\n",
    "avg_f1_score_skfcv10 = sum(f1_score_list) / len(f1_score_list)"
   ]
  },
  {
   "cell_type": "code",
   "execution_count": null,
   "id": "927f2a42-b784-435a-8ea1-a3d43e5b9c56",
   "metadata": {},
   "outputs": [],
   "source": [
    "accuracy_list.clear()\n",
    "precision_list.clear()\n",
    "recall_list.clear()\n",
    "f1_score_list.clear()"
   ]
  },
  {
   "cell_type": "markdown",
   "id": "27cdfeac-d419-4c04-8669-a138d680a21d",
   "metadata": {},
   "source": [
    "### Visualization of Results for Standard XGBoost using Stratified K-Fold Cross Validation"
   ]
  },
  {
   "cell_type": "code",
   "execution_count": null,
   "id": "f7847bd0-00d1-46a6-9a5c-bc570453c086",
   "metadata": {},
   "outputs": [],
   "source": [
    "import matplotlib.pyplot as plt\n",
    "data = [[avg_accuracy_skfcv3, avg_accuracy_skfcv5, avg_accuracy_skfcv10],\n",
    "       [avg_precision_skfcv3, avg_precision_skfcv5, avg_precision_skfcv10],\n",
    "       [avg_recall_skfcv3, avg_recall_skfcv5, avg_recall_skfcv10],\n",
    "       [avg_f1_score_skfcv3, avg_f1_score_skfcv5, avg_f1_score_skfcv10]]\n",
    "x = np.arange(3)\n",
    "fig = plt.figure()\n",
    "ax = fig.add_axes([0,0,1,1])\n",
    "\n",
    "ax.bar(x + 0.0, data[0], color = 'b', width = 0.2)\n",
    "ax.bar(x + 0.2, data[1], color = 'g', width = 0.2)\n",
    "ax.bar(x + 0.4, data[2], color = 'r', width = 0.2)\n",
    "ax.bar(x + 0.6, data[3], color = 'y', width = 0.2)\n",
    "ax.set_xticks(x + 0.3)\n",
    "ax.set_title('Standard XGBoost with Stratified K-Fold Cross Validation')\n",
    "ax.set_xticklabels(['K = 3', 'K = 5', 'K = 10'])\n",
    "ax.legend(labels = ['Accuracy', 'Precision', 'Recall', 'F1 Score'], bbox_to_anchor=(1.05, 1), loc='upper left')"
   ]
  },
  {
   "cell_type": "markdown",
   "id": "c266270b-91cc-4374-ae8b-a80c79697876",
   "metadata": {},
   "source": [
    "# **Building the Logisitic Regression Model**"
   ]
  },
  {
   "cell_type": "code",
   "execution_count": null,
   "id": "7f1ab2a7-f678-4494-8700-b4af680a44b9",
   "metadata": {},
   "outputs": [],
   "source": [
    "import sklearn as sk\n",
    "from sklearn.linear_model import LogisticRegression\n",
    "from sklearn.metrics import precision_score, recall_score, accuracy_score, f1_score, classification_report\n",
    "\n",
    "lg_model = LogisticRegression(class_weight = \"balanced\", max_iter = 400)\n",
    "\n",
    "accuracy_list = []\n",
    "recall_list = []\n",
    "precision_list = []\n",
    "f1_score_list = []"
   ]
  },
  {
   "cell_type": "markdown",
   "id": "ba14e89e-860f-45dc-aa1e-47a052b6318d",
   "metadata": {},
   "source": [
    "## K-Fold Cross Validation for Logisitic Regression"
   ]
  },
  {
   "cell_type": "code",
   "execution_count": null,
   "id": "33a52d3e-9607-43a4-b270-336da66d85c3",
   "metadata": {},
   "outputs": [],
   "source": [
    "from sklearn.model_selection import KFold\n",
    "import numpy as np\n",
    "kfcv3 = KFold(n_splits=3, random_state = 1, shuffle = True)\n",
    "kfcv5 = KFold(n_splits=5, random_state = 1, shuffle = True)\n",
    "kfcv10 = KFold(n_splits=10,  random_state = 1, shuffle = True)"
   ]
  },
  {
   "cell_type": "markdown",
   "id": "932d8f08-3cbf-42bc-b9ed-5a82c7604239",
   "metadata": {},
   "source": [
    "### 3-Fold Cross Validation"
   ]
  },
  {
   "cell_type": "code",
   "execution_count": null,
   "id": "508b0014-e129-4a52-81ea-c07609883dca",
   "metadata": {},
   "outputs": [],
   "source": [
    "for train, test in kfcv3.split(X, Y):\n",
    "    x_train_one_fold, x_test_one_fold = X.iloc[train], X.iloc[test]\n",
    "    y_train_one_fold, y_test_one_fold = Y.iloc[train], Y.iloc[test]\n",
    "    lg_model.fit(x_train_one_fold, y_train_one_fold.values.ravel())\n",
    "    preds = lg_model.predict(x_test_one_fold)\n",
    "    precision_list.append(precision_score(y_test_one_fold, preds, average='macro', pos_label=1))\n",
    "    recall_list.append(recall_score(y_test_one_fold, preds, average='macro', pos_label=1))\n",
    "    f1_score_list.append(f1_score(y_test_one_fold, preds, average='macro', pos_label=1))\n",
    "    accuracy_list.append(accuracy_score(y_test_one_fold, preds))"
   ]
  },
  {
   "cell_type": "code",
   "execution_count": null,
   "id": "321840e0-153c-4f05-9c43-408d3beca93d",
   "metadata": {},
   "outputs": [],
   "source": [
    "print('Accuracy_Scores ...... Precision_Scores ...... Recall_Scores ...... F1_Scores')\n",
    "\n",
    "for i in range(3):\n",
    "    print(round(accuracy_list[i],5), '              ' , round(precision_list[i], 5), '              ', round(recall_list[i],5), '              ', round(f1_score_list[i], 5))"
   ]
  },
  {
   "cell_type": "code",
   "execution_count": null,
   "id": "fafa73bd-6b42-4729-ab77-e158dbc067f6",
   "metadata": {},
   "outputs": [],
   "source": [
    "avg_accuracy_kfcv3 = sum(accuracy_list) / len(accuracy_list)\n",
    "avg_precision_kfcv3 = sum(precision_list) / len(precision_list)\n",
    "avg_recall_kfcv3 = sum(recall_list) / len(recall_list)\n",
    "avg_f1_score_kfcv3 = sum(f1_score_list) / len(f1_score_list)"
   ]
  },
  {
   "cell_type": "code",
   "execution_count": null,
   "id": "07eb2d84-d259-4fc7-8618-fc97358d3e33",
   "metadata": {},
   "outputs": [],
   "source": [
    "accuracy_list.clear()\n",
    "precision_list.clear()\n",
    "recall_list.clear()\n",
    "f1_score_list.clear()"
   ]
  },
  {
   "cell_type": "markdown",
   "id": "ec8dcafa-8d4b-4b63-9948-a89d06db50ac",
   "metadata": {},
   "source": [
    "### 5-Fold Cross Validation"
   ]
  },
  {
   "cell_type": "code",
   "execution_count": null,
   "id": "03ceaf72-59c0-4a82-b2c5-cbaf323e22ab",
   "metadata": {},
   "outputs": [],
   "source": [
    "for train, test in kfcv5.split(X, Y):\n",
    "    x_train_one_fold, x_test_one_fold = X.iloc[train], X.iloc[test]\n",
    "    y_train_one_fold, y_test_one_fold = Y.iloc[train], Y.iloc[test]\n",
    "    lg_model.fit(x_train_one_fold, y_train_one_fold.values.ravel())\n",
    "    preds = lg_model.predict(x_test_one_fold)\n",
    "    precision_list.append(precision_score(y_test_one_fold, preds, average='macro', pos_label=1))\n",
    "    recall_list.append(recall_score(y_test_one_fold, preds, average='macro', pos_label=1))\n",
    "    f1_score_list.append(f1_score(y_test_one_fold, preds, average='macro', pos_label=1))\n",
    "    accuracy_list.append(accuracy_score(y_test_one_fold, preds))"
   ]
  },
  {
   "cell_type": "code",
   "execution_count": null,
   "id": "0fa51299-8e6b-4459-95f7-dd1a20040e8f",
   "metadata": {
    "scrolled": true
   },
   "outputs": [],
   "source": [
    "print('Accuracy_Scores ...... Precision_Scores ...... Recall_Scores ...... F1_Scores')\n",
    "\n",
    "for i in range(5):\n",
    "    print(round(accuracy_list[i],5), '              ' , round(precision_list[i], 5), '              ', round(recall_list[i],5), '              ', round(f1_score_list[i], 5))"
   ]
  },
  {
   "cell_type": "code",
   "execution_count": null,
   "id": "edfbde13-a3e9-4be1-8588-99f57afd9a66",
   "metadata": {},
   "outputs": [],
   "source": [
    "avg_accuracy_kfcv5 = sum(accuracy_list) / len(accuracy_list)\n",
    "avg_precision_kfcv5 = sum(precision_list) / len(precision_list)\n",
    "avg_recall_kfcv5 = sum(recall_list) / len(recall_list)\n",
    "avg_f1_score_kfcv5 = sum(f1_score_list) / len(f1_score_list)"
   ]
  },
  {
   "cell_type": "code",
   "execution_count": null,
   "id": "b6858ed7-dbfa-4bc9-ad9e-1f7fd4aa0b9d",
   "metadata": {},
   "outputs": [],
   "source": [
    "accuracy_list.clear()\n",
    "precision_list.clear()\n",
    "recall_list.clear()\n",
    "f1_score_list.clear()"
   ]
  },
  {
   "cell_type": "markdown",
   "id": "d670d76b-2ed9-4218-9a61-2b5b135fbcc8",
   "metadata": {},
   "source": [
    "### 10-Fold Cross Validation"
   ]
  },
  {
   "cell_type": "code",
   "execution_count": null,
   "id": "9cd03520-ac70-40c1-9755-0033797688b2",
   "metadata": {},
   "outputs": [],
   "source": [
    "for train, test in kfcv10.split(X, Y):\n",
    "    x_train_one_fold, x_test_one_fold = X.iloc[train], X.iloc[test]\n",
    "    y_train_one_fold, y_test_one_fold = Y.iloc[train], Y.iloc[test]\n",
    "    lg_model.fit(x_train_one_fold, y_train_one_fold.values.ravel())\n",
    "    preds = lg_model.predict(x_test_one_fold)\n",
    "    precision_list.append(precision_score(y_test_one_fold, preds, average='macro', pos_label=1))\n",
    "    recall_list.append(recall_score(y_test_one_fold, preds, average='macro', pos_label=1))\n",
    "    f1_score_list.append(f1_score(y_test_one_fold, preds, average='macro', pos_label=1))\n",
    "    accuracy_list.append(accuracy_score(y_test_one_fold, preds))"
   ]
  },
  {
   "cell_type": "code",
   "execution_count": null,
   "id": "241d0684-5b1d-4573-8c39-ea93255d8afe",
   "metadata": {
    "scrolled": true
   },
   "outputs": [],
   "source": [
    "print('Accuracy_Scores ...... Precision_Scores ...... Recall_Scores ...... F1_Scores')\n",
    "\n",
    "for i in range(10):\n",
    "    print(round(accuracy_list[i],5), '              ' , round(precision_list[i], 5), '              ', round(recall_list[i],5), '              ', round(f1_score_list[i], 5))"
   ]
  },
  {
   "cell_type": "code",
   "execution_count": null,
   "id": "89f12800-756a-479e-a437-639327c6277f",
   "metadata": {},
   "outputs": [],
   "source": [
    "avg_accuracy_kfcv10 = sum(accuracy_list) / len(accuracy_list)\n",
    "avg_precision_kfcv10 = sum(precision_list) / len(precision_list)\n",
    "avg_recall_kfcv10 = sum(recall_list) / len(recall_list)\n",
    "avg_f1_score_kfcv10 = sum(f1_score_list) / len(f1_score_list)"
   ]
  },
  {
   "cell_type": "markdown",
   "id": "30b2b7bf-fed6-4c26-8849-3991c9defdd8",
   "metadata": {},
   "source": [
    "### Visualization of Results for Logistic Regression using K-Fold Cross Validation"
   ]
  },
  {
   "cell_type": "code",
   "execution_count": null,
   "id": "3b8df26b-a947-4613-a28b-d4648de805f5",
   "metadata": {},
   "outputs": [],
   "source": [
    "import matplotlib.pyplot as plt\n",
    "data = [[avg_accuracy_kfcv3, avg_accuracy_kfcv5, avg_accuracy_kfcv10],\n",
    "       [avg_precision_kfcv3, avg_precision_kfcv5, avg_precision_kfcv10],\n",
    "       [avg_recall_kfcv3, avg_recall_kfcv5, avg_recall_kfcv10],\n",
    "       [avg_f1_score_kfcv3, avg_f1_score_kfcv5, avg_f1_score_kfcv10]]\n",
    "x = np.arange(3)\n",
    "fig = plt.figure()\n",
    "ax = fig.add_axes([0,0,1,1])\n",
    "\n",
    "ax.bar(x + 0.0, data[0], color = 'b', width = 0.2)\n",
    "ax.bar(x + 0.2, data[1], color = 'g', width = 0.2)\n",
    "ax.bar(x + 0.4, data[2], color = 'r', width = 0.2)\n",
    "ax.bar(x + 0.6, data[3], color = 'y', width = 0.2)\n",
    "ax.set_xticks(x + 0.3)\n",
    "ax.set_title('Logistic Regression with K-Fold Cross Validation')\n",
    "ax.set_xticklabels(['K = 3', 'K = 5', 'K = 10'])\n",
    "ax.legend(labels = ['Accuracy', 'Precision', 'Recall', 'F1 Score'], bbox_to_anchor=(1.05, 1), loc='upper left')"
   ]
  },
  {
   "cell_type": "markdown",
   "id": "68c1289c-a6fc-4d04-ab3c-e4e97b9996e1",
   "metadata": {},
   "source": [
    "## Stratified K-Fold Cross Validation for Logistic Regression"
   ]
  },
  {
   "cell_type": "code",
   "execution_count": null,
   "id": "08e869e4-e28d-48a9-b118-cb556e2078f7",
   "metadata": {},
   "outputs": [],
   "source": [
    "from sklearn.model_selection import StratifiedKFold\n",
    "skfcv3 = StratifiedKFold(n_splits=3,random_state=1, shuffle=True)\n",
    "skfcv5 = StratifiedKFold(n_splits=5,random_state=1, shuffle=True)\n",
    "skfcv10 = StratifiedKFold(n_splits=10,random_state=1, shuffle=True)"
   ]
  },
  {
   "cell_type": "markdown",
   "id": "d6755982-f71e-41ce-bed5-09a3919bfa77",
   "metadata": {},
   "source": [
    "### Stratified 3-Fold Cross Validation"
   ]
  },
  {
   "cell_type": "code",
   "execution_count": null,
   "id": "6e84ca32-f894-4c67-8591-10741079f8cc",
   "metadata": {},
   "outputs": [],
   "source": [
    "for train, test in skfcv3.split(X, Y):\n",
    "    x_train_one_fold, x_test_one_fold = X.iloc[train], X.iloc[test]\n",
    "    y_train_one_fold, y_test_one_fold = Y.iloc[train], Y.iloc[test]\n",
    "    lg_model.fit(x_train_one_fold, y_train_one_fold.values.ravel())\n",
    "    preds = lg_model.predict(x_test_one_fold)\n",
    "    precision_list.append(precision_score(y_test_one_fold, preds, average='macro', pos_label=1))\n",
    "    recall_list.append(recall_score(y_test_one_fold, preds, average='macro', pos_label=1))\n",
    "    f1_score_list.append(f1_score(y_test_one_fold, preds, average='macro', pos_label=1))\n",
    "    accuracy_list.append(accuracy_score(y_test_one_fold, preds))"
   ]
  },
  {
   "cell_type": "code",
   "execution_count": null,
   "id": "8d1daaee-a927-4cf5-a0f7-2a5eca4e45a1",
   "metadata": {
    "scrolled": true
   },
   "outputs": [],
   "source": [
    "print('Accuracy_Scores ...... Precision_Scores ...... Recall_Scores ...... F1_Scores')\n",
    "\n",
    "for i in range(3):\n",
    "    print(round(accuracy_list[i],5), '              ' , round(precision_list[i], 5), '              ', round(recall_list[i],5), '              ', round(f1_score_list[i], 5))"
   ]
  },
  {
   "cell_type": "code",
   "execution_count": null,
   "id": "c53484e0-653d-4b8f-800f-4414029cc76c",
   "metadata": {},
   "outputs": [],
   "source": [
    "avg_accuracy_skfcv3 = sum(accuracy_list) / len(accuracy_list)\n",
    "avg_precision_skfcv3 = sum(precision_list) / len(precision_list)\n",
    "avg_recall_skfcv3 = sum(recall_list) / len(recall_list)\n",
    "avg_f1_score_skfcv3 = sum(f1_score_list) / len(f1_score_list)"
   ]
  },
  {
   "cell_type": "code",
   "execution_count": null,
   "id": "d295e665-7bb3-40cf-8ec0-5e3bd7246e30",
   "metadata": {},
   "outputs": [],
   "source": [
    "accuracy_list.clear()\n",
    "precision_list.clear()\n",
    "recall_list.clear()\n",
    "f1_score_list.clear()"
   ]
  },
  {
   "cell_type": "markdown",
   "id": "fac8e857-be52-4367-81cc-938db8d52635",
   "metadata": {},
   "source": [
    "### Stratified 5-Fold Cross Validation"
   ]
  },
  {
   "cell_type": "code",
   "execution_count": null,
   "id": "bd2a0170-8e6b-497e-835c-161686b44130",
   "metadata": {},
   "outputs": [],
   "source": [
    "for train, test in skfcv5.split(X, Y):\n",
    "    x_train_one_fold, x_test_one_fold = X.iloc[train], X.iloc[test]\n",
    "    y_train_one_fold, y_test_one_fold = Y.iloc[train], Y.iloc[test]\n",
    "    lg_model.fit(x_train_one_fold, y_train_one_fold.values.ravel())\n",
    "    preds = lg_model.predict(x_test_one_fold)\n",
    "    precision_list.append(precision_score(y_test_one_fold, preds, average='macro', pos_label=1))\n",
    "    recall_list.append(recall_score(y_test_one_fold, preds, average='macro', pos_label=1))\n",
    "    f1_score_list.append(f1_score(y_test_one_fold, preds, average='macro', pos_label=1))\n",
    "    accuracy_list.append(accuracy_score(y_test_one_fold, preds))"
   ]
  },
  {
   "cell_type": "code",
   "execution_count": null,
   "id": "ad31331f-f4cb-46f7-99ec-740a4e5de438",
   "metadata": {
    "scrolled": true
   },
   "outputs": [],
   "source": [
    "print('Accuracy_Scores ...... Precision_Scores ...... Recall_Scores ...... F1_Scores')\n",
    "\n",
    "for i in range(5):\n",
    "    print(round(accuracy_list[i],5), '              ' , round(precision_list[i], 5), '              ', round(recall_list[i],5), '              ', round(f1_score_list[i], 5))"
   ]
  },
  {
   "cell_type": "code",
   "execution_count": null,
   "id": "93175b9b-4ca4-4f4b-b0ac-b3c926add81c",
   "metadata": {},
   "outputs": [],
   "source": [
    "avg_accuracy_skfcv5 = sum(accuracy_list) / len(accuracy_list)\n",
    "avg_precision_skfcv5 = sum(precision_list) / len(precision_list)\n",
    "avg_recall_skfcv5 = sum(recall_list) / len(recall_list)\n",
    "avg_f1_score_skfcv5 = sum(f1_score_list) / len(f1_score_list)"
   ]
  },
  {
   "cell_type": "code",
   "execution_count": null,
   "id": "affe6da0-2bd8-4c4f-94dc-87c850aac489",
   "metadata": {},
   "outputs": [],
   "source": [
    "accuracy_list.clear()\n",
    "precision_list.clear()\n",
    "recall_list.clear()\n",
    "f1_score_list.clear()"
   ]
  },
  {
   "cell_type": "markdown",
   "id": "b3b788ea-083b-44c9-8c93-71e9c553eb92",
   "metadata": {},
   "source": [
    "### Stratified 10-Fold Cross Validation"
   ]
  },
  {
   "cell_type": "code",
   "execution_count": null,
   "id": "c8794d0e-9653-4c47-836a-743c44ccfa39",
   "metadata": {},
   "outputs": [],
   "source": [
    "for train, test in skfcv10.split(X, Y):\n",
    "    x_train_one_fold, x_test_one_fold = X.iloc[train], X.iloc[test]\n",
    "    y_train_one_fold, y_test_one_fold = Y.iloc[train], Y.iloc[test]\n",
    "    lg_model.fit(x_train_one_fold, y_train_one_fold.values.ravel())\n",
    "    preds = lg_model.predict(x_test_one_fold)\n",
    "    precision_list.append(precision_score(y_test_one_fold, preds, average='macro', pos_label=1))\n",
    "    recall_list.append(recall_score(y_test_one_fold, preds, average='macro', pos_label=1))\n",
    "    f1_score_list.append(f1_score(y_test_one_fold, preds, average='macro', pos_label=1))\n",
    "    accuracy_list.append(accuracy_score(y_test_one_fold, preds))"
   ]
  },
  {
   "cell_type": "code",
   "execution_count": null,
   "id": "1df9a553-64d2-4cdc-b054-f35341cb6097",
   "metadata": {},
   "outputs": [],
   "source": [
    "print('Accuracy_Scores ...... Precision_Scores ...... Recall_Scores ...... F1_Scores')\n",
    "\n",
    "for i in range(10):\n",
    "    print(round(accuracy_list[i],5), '              ' , round(precision_list[i], 5), '              ', round(recall_list[i],5), '              ', round(f1_score_list[i], 5))"
   ]
  },
  {
   "cell_type": "code",
   "execution_count": null,
   "id": "9e027402-ab58-4a5b-9b71-3cbd4ae6c00c",
   "metadata": {
    "scrolled": true
   },
   "outputs": [],
   "source": [
    "avg_accuracy_skfcv10 = sum(accuracy_list) / len(accuracy_list)\n",
    "avg_precision_skfcv10 = sum(precision_list) / len(precision_list)\n",
    "avg_recall_skfcv10 = sum(recall_list) / len(recall_list)\n",
    "avg_f1_score_skfcv10 = sum(f1_score_list) / len(f1_score_list)"
   ]
  },
  {
   "cell_type": "markdown",
   "id": "31247e20-b858-49aa-acc6-3ae3fa2efb81",
   "metadata": {},
   "source": [
    "### Visualization of Results for Logistic Regression using Stratified K-Fold Cross Validation"
   ]
  },
  {
   "cell_type": "code",
   "execution_count": null,
   "id": "78fe3cfc-6803-4667-b4f6-9d0847453c5e",
   "metadata": {},
   "outputs": [],
   "source": [
    "import matplotlib.pyplot as plt\n",
    "data = [[avg_accuracy_skfcv3, avg_accuracy_skfcv5, avg_accuracy_skfcv10],\n",
    "       [avg_precision_skfcv3, avg_precision_skfcv5, avg_precision_skfcv10],\n",
    "       [avg_recall_skfcv3, avg_recall_skfcv5, avg_recall_skfcv10],\n",
    "       [avg_f1_score_skfcv3, avg_f1_score_skfcv5, avg_f1_score_skfcv10]]\n",
    "x = np.arange(3)\n",
    "fig = plt.figure()\n",
    "ax = fig.add_axes([0,0,1,1])\n",
    "\n",
    "ax.bar(x + 0.0, data[0], color = 'b', width = 0.2)\n",
    "ax.bar(x + 0.2, data[1], color = 'g', width = 0.2)\n",
    "ax.bar(x + 0.4, data[2], color = 'r', width = 0.2)\n",
    "ax.bar(x + 0.6, data[3], color = 'y', width = 0.2)\n",
    "ax.set_xticks(x + 0.3)\n",
    "ax.set_title('Logistic Regression with Stratified K-Fold Cross Validation')\n",
    "ax.set_xticklabels(['K = 3', 'K = 5', 'K = 10'])\n",
    "ax.legend(labels = ['Accuracy', 'Precision', 'Recall', 'F1 Score'], bbox_to_anchor=(1.05, 1), loc='upper left')"
   ]
  },
  {
   "cell_type": "markdown",
   "id": "d7763319-4805-4aaf-a059-867f2cdd00e8",
   "metadata": {},
   "source": [
    "# **Building the Random Forest Classifier** "
   ]
  },
  {
   "cell_type": "code",
   "execution_count": null,
   "id": "b1eb9ffd-81b3-4eb7-a5fa-c6d226d698ce",
   "metadata": {},
   "outputs": [],
   "source": [
    "from sklearn.ensemble import RandomForestClassifier\n",
    "from sklearn.metrics import precision_score, recall_score, accuracy_score, f1_score, classification_report\n",
    "\n",
    "rfc_model = RandomForestClassifier()\n",
    "\n",
    "\n",
    "\n",
    "accuracy_list = []\n",
    "recall_list = []\n",
    "precision_list = []\n",
    "f1_score_list = []"
   ]
  },
  {
   "cell_type": "markdown",
   "id": "f9690867-4b40-42ae-9eae-1f53191e39e7",
   "metadata": {},
   "source": [
    "## K-Fold Cross Validation for Random Forest Classifier"
   ]
  },
  {
   "cell_type": "code",
   "execution_count": null,
   "id": "37aad350-6072-442e-a0e1-f359f1de73d2",
   "metadata": {},
   "outputs": [],
   "source": [
    "from sklearn.model_selection import KFold\n",
    "import numpy as np\n",
    "kfcv3 = KFold(n_splits=3, random_state = 1, shuffle = True)\n",
    "kfcv5 = KFold(n_splits=5, random_state = 1, shuffle = True)\n",
    "kfcv10 = KFold(n_splits=10,  random_state = 1, shuffle = True)"
   ]
  },
  {
   "cell_type": "markdown",
   "id": "56d67380-d42b-4051-a77f-ece30eb7ff9f",
   "metadata": {},
   "source": [
    "### 3-Fold Cross Validation"
   ]
  },
  {
   "cell_type": "code",
   "execution_count": null,
   "id": "d2dc39be-e084-4695-a399-16e805f0604c",
   "metadata": {},
   "outputs": [],
   "source": [
    "%%time\n",
    "for train, test in kfcv3.split(X, Y):\n",
    "    x_train_one_fold, x_test_one_fold = X.iloc[train], X.iloc[test]\n",
    "    y_train_one_fold, y_test_one_fold = Y.iloc[train], Y.iloc[test]\n",
    "    rfc_model.fit(x_train_one_fold, np.ravel(y_train_one_fold))\n",
    "    preds = rfc_model.predict(x_test_one_fold)\n",
    "    precision_list.append(precision_score(y_test_one_fold, preds, average='macro', pos_label=1))\n",
    "    recall_list.append(recall_score(y_test_one_fold, preds, average='macro', pos_label=1))\n",
    "    f1_score_list.append(f1_score(y_test_one_fold, preds, average='macro', pos_label=1))\n",
    "    accuracy_list.append(accuracy_score(y_test_one_fold, preds))"
   ]
  },
  {
   "cell_type": "code",
   "execution_count": null,
   "id": "eaf16e74-8dbf-4587-8b17-c0bb0a526dce",
   "metadata": {},
   "outputs": [],
   "source": [
    "print('Accuracy_Scores ...... Precision_Scores ...... Recall_Scores ...... F1_Scores')\n",
    "\n",
    "for i in range(3):\n",
    "    print(round(accuracy_list[i],5), '              ' , round(precision_list[i], 5), '              ', round(recall_list[i],5), '              ', round(f1_score_list[i], 5))"
   ]
  },
  {
   "cell_type": "code",
   "execution_count": null,
   "id": "d8d1daa2-8576-44e5-b011-ec83a0f39e00",
   "metadata": {},
   "outputs": [],
   "source": [
    "avg_accuracy_kfcv3 = sum(accuracy_list) / len(accuracy_list)\n",
    "avg_precision_kfcv3 = sum(precision_list) / len(precision_list)\n",
    "avg_recall_kfcv3 = sum(recall_list) / len(recall_list)\n",
    "avg_f1_score_kfcv3 = sum(f1_score_list) / len(f1_score_list)"
   ]
  },
  {
   "cell_type": "code",
   "execution_count": null,
   "id": "78f72580-ad5c-4bf3-9962-abcddac9d6e9",
   "metadata": {},
   "outputs": [],
   "source": [
    "accuracy_list.clear()\n",
    "precision_list.clear()\n",
    "recall_list.clear()\n",
    "f1_score_list.clear()"
   ]
  },
  {
   "cell_type": "markdown",
   "id": "8a3a7531-6731-4952-8285-8019a5e55ce2",
   "metadata": {},
   "source": [
    "### 5-Fold Cross Validation"
   ]
  },
  {
   "cell_type": "code",
   "execution_count": null,
   "id": "1ef04ab1-1527-423f-ab1c-135e948b1226",
   "metadata": {},
   "outputs": [],
   "source": [
    "%%time\n",
    "for train, test in kfcv5.split(X, Y):\n",
    "    x_train_one_fold, x_test_one_fold = X.iloc[train], X.iloc[test]\n",
    "    y_train_one_fold, y_test_one_fold = Y.iloc[train], Y.iloc[test]\n",
    "    rfc_model.fit(x_train_one_fold, np.ravel(y_train_one_fold))\n",
    "    preds = rfc_model.predict(x_test_one_fold)\n",
    "    precision_list.append(precision_score(y_test_one_fold, preds, average='macro', pos_label=1))\n",
    "    recall_list.append(recall_score(y_test_one_fold, preds, average='macro', pos_label=1))\n",
    "    f1_score_list.append(f1_score(y_test_one_fold, preds, average='macro', pos_label=1))\n",
    "    accuracy_list.append(accuracy_score(y_test_one_fold, preds))"
   ]
  },
  {
   "cell_type": "code",
   "execution_count": null,
   "id": "0c297a50-2cc7-4daf-8006-7916773c98dc",
   "metadata": {},
   "outputs": [],
   "source": [
    "print('Accuracy_Scores ...... Precision_Scores ...... Recall_Scores ...... F1_Scores')\n",
    "\n",
    "for i in range(5):\n",
    "    print(round(accuracy_list[i],5), '              ' , round(precision_list[i], 5), '              ', round(recall_list[i],5), '              ', round(f1_score_list[i], 5))"
   ]
  },
  {
   "cell_type": "code",
   "execution_count": null,
   "id": "07461a1e-78a5-48e8-a8f4-31ecd7f11d9b",
   "metadata": {},
   "outputs": [],
   "source": [
    "avg_accuracy_kfcv5 = sum(accuracy_list) / len(accuracy_list)\n",
    "avg_precision_kfcv5 = sum(precision_list) / len(precision_list)\n",
    "avg_recall_kfcv5 = sum(recall_list) / len(recall_list)\n",
    "avg_f1_score_kfcv5 = sum(f1_score_list) / len(f1_score_list)"
   ]
  },
  {
   "cell_type": "code",
   "execution_count": null,
   "id": "ac2a51a9-6bbd-4bca-947f-324053f4197a",
   "metadata": {},
   "outputs": [],
   "source": [
    "accuracy_list.clear()\n",
    "precision_list.clear()\n",
    "recall_list.clear()\n",
    "f1_score_list.clear()"
   ]
  },
  {
   "cell_type": "markdown",
   "id": "4a9dd6d7-9cfd-4700-afb9-d30514d05e2a",
   "metadata": {},
   "source": [
    "### 10-Fold Cross Validation"
   ]
  },
  {
   "cell_type": "code",
   "execution_count": null,
   "id": "9d9b2934-3b4d-4ad3-86dd-a9689cf31538",
   "metadata": {},
   "outputs": [],
   "source": [
    "%%time\n",
    "for train, test in kfcv10.split(X, Y):\n",
    "    x_train_one_fold, x_test_one_fold = X.iloc[train], X.iloc[test]\n",
    "    y_train_one_fold, y_test_one_fold = Y.iloc[train], Y.iloc[test]\n",
    "    rfc_model.fit(x_train_one_fold, np.ravel(y_train_one_fold))\n",
    "    preds = rfc_model.predict(x_test_one_fold)\n",
    "    precision_list.append(precision_score(y_test_one_fold, preds, average='macro', pos_label=1))\n",
    "    recall_list.append(recall_score(y_test_one_fold, preds, average='macro', pos_label=1))\n",
    "    f1_score_list.append(f1_score(y_test_one_fold, preds, average='macro', pos_label=1))\n",
    "    accuracy_list.append(accuracy_score(y_test_one_fold, preds))"
   ]
  },
  {
   "cell_type": "code",
   "execution_count": null,
   "id": "df2bb99b-f28b-4b0f-9367-e1d5816167bc",
   "metadata": {},
   "outputs": [],
   "source": [
    "print('Accuracy_Scores ...... Precision_Scores ...... Recall_Scores ...... F1_Scores')\n",
    "\n",
    "for i in range(10):\n",
    "    print(round(accuracy_list[i],5), '              ' , round(precision_list[i], 5), '              ', round(recall_list[i],5), '              ', round(f1_score_list[i], 5))"
   ]
  },
  {
   "cell_type": "code",
   "execution_count": null,
   "id": "f6e72cf4-7439-4b1d-acc3-f11cb530d53d",
   "metadata": {},
   "outputs": [],
   "source": [
    "avg_accuracy_kfcv10 = sum(accuracy_list) / len(accuracy_list)\n",
    "avg_precision_kfcv10 = sum(precision_list) / len(precision_list)\n",
    "avg_recall_kfcv10 = sum(recall_list) / len(recall_list)\n",
    "avg_f1_score_kfcv10 = sum(f1_score_list) / len(f1_score_list)"
   ]
  },
  {
   "cell_type": "code",
   "execution_count": null,
   "id": "4367603d-485c-4cd4-b507-50d46eef1197",
   "metadata": {},
   "outputs": [],
   "source": [
    "accuracy_list.clear()\n",
    "precision_list.clear()\n",
    "recall_list.clear()\n",
    "f1_score_list.clear()"
   ]
  },
  {
   "cell_type": "markdown",
   "id": "a220a30e-346f-41c3-b0e6-a09b808fbca2",
   "metadata": {},
   "source": [
    "### Visualization of Results for Random Forest Classifier using K-Fold Cross Validation"
   ]
  },
  {
   "cell_type": "code",
   "execution_count": null,
   "id": "63875903-db0e-4d70-982f-d7a998e75ce2",
   "metadata": {},
   "outputs": [],
   "source": [
    "import matplotlib.pyplot as plt\n",
    "data = [[avg_accuracy_kfcv3, avg_accuracy_kfcv5, avg_accuracy_kfcv10],\n",
    "       [avg_precision_kfcv3, avg_precision_kfcv5, avg_precision_kfcv10],\n",
    "       [avg_recall_kfcv3, avg_recall_kfcv5, avg_recall_kfcv10],\n",
    "       [avg_f1_score_kfcv3, avg_f1_score_kfcv5, avg_f1_score_kfcv10]]\n",
    "x = np.arange(3)\n",
    "fig = plt.figure()\n",
    "ax = fig.add_axes([0,0,1,1])\n",
    "\n",
    "ax.bar(x + 0.0, data[0], color = 'b', width = 0.2)\n",
    "ax.bar(x + 0.2, data[1], color = 'g', width = 0.2)\n",
    "ax.bar(x + 0.4, data[2], color = 'r', width = 0.2)\n",
    "ax.bar(x + 0.6, data[3], color = 'y', width = 0.2)\n",
    "ax.set_xticks(x + 0.3)\n",
    "ax.set_title('Random Forest Classifier with K-Fold Cross Validation')\n",
    "ax.set_xticklabels(['K = 3', 'K = 5', 'K = 10'])\n",
    "ax.legend(labels = ['Accuracy', 'Precision', 'Recall', 'F1 Score'], bbox_to_anchor=(1.05, 1), loc='upper left')"
   ]
  },
  {
   "cell_type": "markdown",
   "id": "289b8d00-6c16-4654-ba7f-0d6300afd1fa",
   "metadata": {},
   "source": [
    "## Stratified K-Fold Cross Validation for Random Forest Classifiers"
   ]
  },
  {
   "cell_type": "code",
   "execution_count": null,
   "id": "46f772ef-52ec-4308-a5c1-dc915035c08b",
   "metadata": {},
   "outputs": [],
   "source": [
    "from sklearn.model_selection import StratifiedKFold\n",
    "skfcv3 = StratifiedKFold(n_splits=3,random_state=1, shuffle=True)\n",
    "skfcv5 = StratifiedKFold(n_splits=5,random_state=1, shuffle=True)\n",
    "skfcv10 = StratifiedKFold(n_splits=10,random_state=1, shuffle=True)"
   ]
  },
  {
   "cell_type": "markdown",
   "id": "dfca46d9-e8a6-4f01-9350-4d4e276356c8",
   "metadata": {},
   "source": [
    "### Stratified 3-Fold Cross Validation"
   ]
  },
  {
   "cell_type": "code",
   "execution_count": null,
   "id": "fc91c4e8-669a-4df0-9cb1-f5213c6f43b4",
   "metadata": {},
   "outputs": [],
   "source": [
    "%%time\n",
    "for train, test in skfcv3.split(X, Y):\n",
    "    x_train_one_fold, x_test_one_fold = X.iloc[train], X.iloc[test]\n",
    "    y_train_one_fold, y_test_one_fold = Y.iloc[train], Y.iloc[test]\n",
    "    rfc_model.fit(x_train_one_fold, np.ravel(y_train_one_fold))\n",
    "    preds = rfc_model.predict(x_test_one_fold)\n",
    "    precision_list.append(precision_score(y_test_one_fold, preds, average='macro', pos_label=1))\n",
    "    recall_list.append(recall_score(y_test_one_fold, preds, average='macro', pos_label=1))\n",
    "    f1_score_list.append(f1_score(y_test_one_fold, preds, average='macro', pos_label=1))\n",
    "    accuracy_list.append(accuracy_score(y_test_one_fold, preds))"
   ]
  },
  {
   "cell_type": "code",
   "execution_count": null,
   "id": "d27069ce-8174-4e9e-be0f-8269f3732ee5",
   "metadata": {},
   "outputs": [],
   "source": [
    "print('Accuracy_Scores ...... Precision_Scores ...... Recall_Scores ...... F1_Scores')\n",
    "\n",
    "for i in range(3):\n",
    "    print(round(accuracy_list[i],5), '              ' , round(precision_list[i], 5), '              ', round(recall_list[i],5), '              ', round(f1_score_list[i], 5))"
   ]
  },
  {
   "cell_type": "code",
   "execution_count": null,
   "id": "971a432c-fc02-4e35-9eca-077adf39cce9",
   "metadata": {},
   "outputs": [],
   "source": [
    "avg_accuracy_skfcv3 = sum(accuracy_list) / len(accuracy_list)\n",
    "avg_precision_skfcv3 = sum(precision_list) / len(precision_list)\n",
    "avg_recall_skfcv3 = sum(recall_list) / len(recall_list)\n",
    "avg_f1_score_skfcv3 = sum(f1_score_list) / len(f1_score_list)"
   ]
  },
  {
   "cell_type": "code",
   "execution_count": null,
   "id": "4e88bd4b-b3a4-4045-ba77-cf1553f4493e",
   "metadata": {},
   "outputs": [],
   "source": [
    "accuracy_list.clear()\n",
    "precision_list.clear()\n",
    "recall_list.clear()\n",
    "f1_score_list.clear()"
   ]
  },
  {
   "cell_type": "markdown",
   "id": "d9459570-a231-4732-aab4-3e22664bceab",
   "metadata": {},
   "source": [
    "### Stratified 5-Fold Cross Validation"
   ]
  },
  {
   "cell_type": "code",
   "execution_count": null,
   "id": "ef7f3a7f-b236-4544-bd7a-abaa5b2f1497",
   "metadata": {},
   "outputs": [],
   "source": [
    "%%time\n",
    "for train, test in skfcv5.split(X, Y):\n",
    "    x_train_one_fold, x_test_one_fold = X.iloc[train], X.iloc[test]\n",
    "    y_train_one_fold, y_test_one_fold = Y.iloc[train], Y.iloc[test]\n",
    "    rfc_model.fit(x_train_one_fold, np.ravel(y_train_one_fold))\n",
    "    preds = rfc_model.predict(x_test_one_fold)\n",
    "    precision_list.append(precision_score(y_test_one_fold, preds, average='macro', pos_label=1))\n",
    "    recall_list.append(recall_score(y_test_one_fold, preds, average='macro', pos_label=1))\n",
    "    f1_score_list.append(f1_score(y_test_one_fold, preds, average='macro', pos_label=1))\n",
    "    accuracy_list.append(accuracy_score(y_test_one_fold, preds))"
   ]
  },
  {
   "cell_type": "code",
   "execution_count": null,
   "id": "3418c128-773b-4e7e-a5cd-3b24f6a148cb",
   "metadata": {},
   "outputs": [],
   "source": [
    "print('Accuracy_Scores ...... Precision_Scores ...... Recall_Scores ...... F1_Scores')\n",
    "\n",
    "for i in range(5):\n",
    "    print(round(accuracy_list[i],5), '              ' , round(precision_list[i], 5), '              ', round(recall_list[i],5), '              ', round(f1_score_list[i], 5))"
   ]
  },
  {
   "cell_type": "code",
   "execution_count": null,
   "id": "57bc1dbd-f486-4be4-941f-c8630bc2f292",
   "metadata": {},
   "outputs": [],
   "source": [
    "avg_accuracy_skfcv5 = sum(accuracy_list) / len(accuracy_list)\n",
    "avg_precision_skfcv5 = sum(precision_list) / len(precision_list)\n",
    "avg_recall_skfcv5 = sum(recall_list) / len(recall_list)\n",
    "avg_f1_score_skfcv5 = sum(f1_score_list) / len(f1_score_list)"
   ]
  },
  {
   "cell_type": "code",
   "execution_count": null,
   "id": "4ab02d5b-fb42-4253-89e2-7942d963e687",
   "metadata": {},
   "outputs": [],
   "source": [
    "accuracy_list.clear()\n",
    "precision_list.clear()\n",
    "recall_list.clear()\n",
    "f1_score_list.clear()"
   ]
  },
  {
   "cell_type": "markdown",
   "id": "fe5511f0-71b7-4936-adb2-adce697d386b",
   "metadata": {},
   "source": [
    "### Stratified 10-Fold Cross Validation"
   ]
  },
  {
   "cell_type": "code",
   "execution_count": null,
   "id": "afdc74ce-d838-48b7-ae86-463d3181683d",
   "metadata": {},
   "outputs": [],
   "source": [
    "%%time\n",
    "for train, test in skfcv10.split(X, Y):\n",
    "    x_train_one_fold, x_test_one_fold = X.iloc[train], X.iloc[test]\n",
    "    y_train_one_fold, y_test_one_fold = Y.iloc[train], Y.iloc[test]\n",
    "    rfc_model.fit(x_train_one_fold, np.ravel(y_train_one_fold))\n",
    "    preds = rfc_model.predict(x_test_one_fold)\n",
    "    precision_list.append(precision_score(y_test_one_fold, preds, average='macro', pos_label=1))\n",
    "    recall_list.append(recall_score(y_test_one_fold, preds, average='macro', pos_label=1))\n",
    "    f1_score_list.append(f1_score(y_test_one_fold, preds, average='macro', pos_label=1))\n",
    "    accuracy_list.append(accuracy_score(y_test_one_fold, preds))"
   ]
  },
  {
   "cell_type": "code",
   "execution_count": null,
   "id": "02392dda-27d0-4dbd-b70b-2d9fccd8e1f6",
   "metadata": {},
   "outputs": [],
   "source": [
    "print('Accuracy_Scores ...... Precision_Scores ...... Recall_Scores ...... F1_Scores')\n",
    "\n",
    "for i in range(10):\n",
    "    print(round(accuracy_list[i],5), '              ' , round(precision_list[i], 5), '              ', round(recall_list[i],5), '              ', round(f1_score_list[i], 5))"
   ]
  },
  {
   "cell_type": "code",
   "execution_count": null,
   "id": "19f0e761-a750-45c6-ad6f-fdd7050307ef",
   "metadata": {},
   "outputs": [],
   "source": [
    "avg_accuracy_skfcv10 = sum(accuracy_list) / len(accuracy_list)\n",
    "avg_precision_skfcv10 = sum(precision_list) / len(precision_list)\n",
    "avg_recall_skfcv10 = sum(recall_list) / len(recall_list)\n",
    "avg_f1_score_skfcv10 = sum(f1_score_list) / len(f1_score_list)"
   ]
  },
  {
   "cell_type": "code",
   "execution_count": null,
   "id": "b96fed74-3ecd-4177-b0d6-58fe839fef0b",
   "metadata": {},
   "outputs": [],
   "source": [
    "accuracy_list.clear()\n",
    "precision_list.clear()\n",
    "recall_list.clear()\n",
    "f1_score_list.clear()"
   ]
  },
  {
   "cell_type": "markdown",
   "id": "8a1c41a4-2dd1-40e3-968a-8e9d9a1d1ecf",
   "metadata": {},
   "source": [
    "### Visualization of Results for Random Forest Classifier using Stratified K-Fold Cross Validation"
   ]
  },
  {
   "cell_type": "code",
   "execution_count": null,
   "id": "0b788746-cd8c-4b89-8152-066510aa5a07",
   "metadata": {},
   "outputs": [],
   "source": [
    "import matplotlib.pyplot as plt\n",
    "data = [[avg_accuracy_skfcv3, avg_accuracy_skfcv5, avg_accuracy_skfcv10],\n",
    "       [avg_precision_skfcv3, avg_precision_skfcv5, avg_precision_skfcv10],\n",
    "       [avg_recall_skfcv3, avg_recall_skfcv5, avg_recall_skfcv10],\n",
    "       [avg_f1_score_skfcv3, avg_f1_score_skfcv5, avg_f1_score_skfcv10]]\n",
    "x = np.arange(3)\n",
    "fig = plt.figure()\n",
    "ax = fig.add_axes([0,0,1,1])\n",
    "\n",
    "ax.bar(x + 0.0, data[0], color = 'b', width = 0.2)\n",
    "ax.bar(x + 0.2, data[1], color = 'g', width = 0.2)\n",
    "ax.bar(x + 0.4, data[2], color = 'r', width = 0.2)\n",
    "ax.bar(x + 0.6, data[3], color = 'y', width = 0.2)\n",
    "ax.set_xticks(x + 0.3)\n",
    "ax.set_title('Random Forest Classifier with Stratified K-Fold Cross Validation')\n",
    "ax.set_xticklabels(['K = 3', 'K = 5', 'K = 10'])\n",
    "ax.legend(labels = ['Accuracy', 'Precision', 'Recall', 'F1 Score'], bbox_to_anchor=(1.05, 1), loc='upper left')"
   ]
  }
 ],
 "metadata": {
  "kernelspec": {
   "display_name": "Python 3 (ipykernel)",
   "language": "python",
   "name": "python3"
  },
  "language_info": {
   "codemirror_mode": {
    "name": "ipython",
    "version": 3
   },
   "file_extension": ".py",
   "mimetype": "text/x-python",
   "name": "python",
   "nbconvert_exporter": "python",
   "pygments_lexer": "ipython3",
   "version": "3.8.8"
  }
 },
 "nbformat": 4,
 "nbformat_minor": 5
}
